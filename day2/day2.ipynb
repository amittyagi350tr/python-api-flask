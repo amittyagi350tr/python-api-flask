{
 "cells": [
  {
   "cell_type": "code",
   "execution_count": 1,
   "metadata": {},
   "outputs": [
    {
     "name": "stdout",
     "output_type": "stream",
     "text": [
      "Hello,World\n"
     ]
    }
   ],
   "source": [
    "print(\"Hello,World\")"
   ]
  },
  {
   "attachments": {},
   "cell_type": "markdown",
   "metadata": {},
   "source": [
    "1) how to define a function\n",
    "2) how to pass arguments / return something from a function\n",
    "3) difference between None return and value return\n",
    "4) Default values \n",
    "5) Variable number of arguments : *"
   ]
  },
  {
   "cell_type": "code",
   "execution_count": 2,
   "metadata": {},
   "outputs": [],
   "source": [
    "# addition between all arguments passed to the function\n",
    "\n",
    "def total(   *data : tuple   ) -> None:\n",
    "   \n",
    "    print(   data,   type(data), sep=\"\\n\"   )\n",
    "\n",
    "    ans = 0\n",
    "\n",
    "    for value in data:\n",
    "        ans = ans + value\n",
    "\n",
    "    print(f\"Sum of all items in {data} is: {ans}\")\n",
    "\n"
   ]
  },
  {
   "cell_type": "code",
   "execution_count": 3,
   "metadata": {},
   "outputs": [
    {
     "name": "stdout",
     "output_type": "stream",
     "text": [
      "(1, 10, 30, 40, 50)\n",
      "<class 'tuple'>\n",
      "Sum of all items in (1, 10, 30, 40, 50) is: 131\n",
      "(-11, -19)\n",
      "<class 'tuple'>\n",
      "Sum of all items in (-11, -19) is: -30\n"
     ]
    }
   ],
   "source": [
    "total(         1, 10, 30, 40, 50      )\n",
    "\n",
    "total(         -11, -19     )"
   ]
  },
  {
   "cell_type": "code",
   "execution_count": 4,
   "metadata": {},
   "outputs": [
    {
     "name": "stdout",
     "output_type": "stream",
     "text": [
      "([1, 2, 3], [4, 5, 6])\n",
      "<class 'tuple'>\n"
     ]
    },
    {
     "ename": "TypeError",
     "evalue": "unsupported operand type(s) for +: 'int' and 'list'",
     "output_type": "error",
     "traceback": [
      "\u001b[0;31m---------------------------------------------------------------------------\u001b[0m",
      "\u001b[0;31mTypeError\u001b[0m                                 Traceback (most recent call last)",
      "Cell \u001b[0;32mIn[4], line 1\u001b[0m\n\u001b[0;32m----> 1\u001b[0m total(     [\u001b[39m1\u001b[39;49m,\u001b[39m2\u001b[39;49m,\u001b[39m3\u001b[39;49m],   [\u001b[39m4\u001b[39;49m,\u001b[39m5\u001b[39;49m,\u001b[39m6\u001b[39;49m]      )\n",
      "Cell \u001b[0;32mIn[2], line 9\u001b[0m, in \u001b[0;36mtotal\u001b[0;34m(*data)\u001b[0m\n\u001b[1;32m      6\u001b[0m ans \u001b[39m=\u001b[39m \u001b[39m0\u001b[39m\n\u001b[1;32m      8\u001b[0m \u001b[39mfor\u001b[39;00m value \u001b[39min\u001b[39;00m data:\n\u001b[0;32m----> 9\u001b[0m     ans \u001b[39m=\u001b[39m ans \u001b[39m+\u001b[39;49m value\n\u001b[1;32m     11\u001b[0m \u001b[39mprint\u001b[39m(\u001b[39mf\u001b[39m\u001b[39m\"\u001b[39m\u001b[39mSum of all items in \u001b[39m\u001b[39m{\u001b[39;00mdata\u001b[39m}\u001b[39;00m\u001b[39m is: \u001b[39m\u001b[39m{\u001b[39;00mans\u001b[39m}\u001b[39;00m\u001b[39m\"\u001b[39m)\n",
      "\u001b[0;31mTypeError\u001b[0m: unsupported operand type(s) for +: 'int' and 'list'"
     ]
    }
   ],
   "source": [
    "total(     [1,2,3],   [4,5,6]      )"
   ]
  },
  {
   "cell_type": "code",
   "execution_count": 5,
   "metadata": {},
   "outputs": [],
   "source": [
    "def display(    **data : dict  ) -> None:\n",
    "    print(data, type(data), sep=\"\\n\")"
   ]
  },
  {
   "cell_type": "code",
   "execution_count": 6,
   "metadata": {},
   "outputs": [
    {
     "name": "stdout",
     "output_type": "stream",
     "text": [
      "{'name': 'harshit', 'age': 32}\n",
      "<class 'dict'>\n"
     ]
    }
   ],
   "source": [
    "display(   name=\"harshit\", age =  32   ) ###pass"
   ]
  },
  {
   "attachments": {},
   "cell_type": "markdown",
   "metadata": {},
   "source": [
    "\n",
    "\n",
    "excel, XML, JSON, SQL-tables----------------> API"
   ]
  },
  {
   "attachments": {},
   "cell_type": "markdown",
   "metadata": {},
   "source": [
    "#### Functional programming in Python"
   ]
  },
  {
   "attachments": {},
   "cell_type": "markdown",
   "metadata": {},
   "source": []
  },
  {
   "cell_type": "code",
   "execution_count": 7,
   "metadata": {},
   "outputs": [
    {
     "name": "stdout",
     "output_type": "stream",
     "text": [
      "<class 'function'>\n"
     ]
    }
   ],
   "source": [
    "print(type(display))"
   ]
  },
  {
   "cell_type": "code",
   "execution_count": 9,
   "metadata": {},
   "outputs": [],
   "source": [
    "def Square(number : int) -> int:\n",
    "    return number * number"
   ]
  },
  {
   "cell_type": "code",
   "execution_count": 11,
   "metadata": {},
   "outputs": [],
   "source": [
    "def Cube(number : int) -> int:\n",
    "    return number * number *number"
   ]
  },
  {
   "attachments": {},
   "cell_type": "markdown",
   "metadata": {},
   "source": [
    "## Higher Order function???:\n",
    "\n",
    "A function that takes AT LEAST ONE OTHER FUNCTION as an argument or RETURNS AT LEAST ONE OTHER FUNCTIIN as a return value will be called higher order function"
   ]
  },
  {
   "attachments": {},
   "cell_type": "markdown",
   "metadata": {},
   "source": [
    "structured oriented : simple scripts or tasks for automation or a simple execution script\n",
    "\n",
    "object oriented : application or a software or unit that has a complex connection flow\n",
    "\n",
    "functional style : data processing & transformation"
   ]
  },
  {
   "attachments": {},
   "cell_type": "markdown",
   "metadata": {},
   "source": [
    "### operation takes 1 number, 1 function...applies the function passed on this number and prints answer"
   ]
  },
  {
   "cell_type": "code",
   "execution_count": 8,
   "metadata": {},
   "outputs": [],
   "source": [
    "def operation(   number : int,  fn : callable   ) -> None:\n",
    "    #apply the function passed as the second \n",
    "    # argument to operation on the first \n",
    "    # argument passed to operation\n",
    "    ans =   fn  (        number    )  \n",
    "    # ans =  Square(number),  ans = Cube(number)\n",
    "\n",
    "    print(ans)"
   ]
  },
  {
   "cell_type": "code",
   "execution_count": 10,
   "metadata": {},
   "outputs": [
    {
     "name": "stdout",
     "output_type": "stream",
     "text": [
      "100\n"
     ]
    }
   ],
   "source": [
    "operation(  10, Square   ) #passed a function Square as an argument to operation"
   ]
  },
  {
   "cell_type": "code",
   "execution_count": 12,
   "metadata": {},
   "outputs": [
    {
     "name": "stdout",
     "output_type": "stream",
     "text": [
      "1000\n"
     ]
    }
   ],
   "source": [
    "operation(10,   Cube)"
   ]
  },
  {
   "attachments": {},
   "cell_type": "markdown",
   "metadata": {},
   "source": [
    "                 [operation]            output of function applied on data\n",
    "function, data                  ---------------->\n",
    "---------->"
   ]
  },
  {
   "cell_type": "code",
   "execution_count": 14,
   "metadata": {},
   "outputs": [
    {
     "name": "stdout",
     "output_type": "stream",
     "text": [
      "[<function Square at 0x7f7730dac310>, <function Cube at 0x7f7730dac160>]\n"
     ]
    }
   ],
   "source": [
    "\n",
    "actions = [       Square, Cube    ]\n",
    "\n",
    "print(actions)"
   ]
  },
  {
   "cell_type": "code",
   "execution_count": 15,
   "metadata": {},
   "outputs": [
    {
     "name": "stdout",
     "output_type": "stream",
     "text": [
      "100\n",
      "1000\n"
     ]
    }
   ],
   "source": [
    "#for every function stored in the actions list,\n",
    "for fn in actions:\n",
    "\n",
    "    #call operation by passing data 10 and the stored fn\n",
    "    operation(10,  fn)"
   ]
  },
  {
   "attachments": {},
   "cell_type": "markdown",
   "metadata": {},
   "source": [
    "# c language???\n",
    "\n",
    "    # call by value call by reference\n",
    "\n",
    "## c doesn't support call by reference"
   ]
  },
  {
   "cell_type": "code",
   "execution_count": 16,
   "metadata": {},
   "outputs": [],
   "source": [
    "def outer(    ):\n",
    "\n",
    "    def inner():#closure\n",
    "        print(\"Inner function called!!!!\")\n",
    "\n",
    "\n",
    "    return inner #we are returning inner function from the scope of outer function"
   ]
  },
  {
   "cell_type": "code",
   "execution_count": 17,
   "metadata": {},
   "outputs": [
    {
     "name": "stdout",
     "output_type": "stream",
     "text": [
      "Inner function called!!!!\n"
     ]
    }
   ],
   "source": [
    "fn=outer() #call outer function, python will define the inner function at this point.\n",
    "\n",
    "\n",
    "fn() #???????"
   ]
  },
  {
   "cell_type": "code",
   "execution_count": null,
   "metadata": {},
   "outputs": [],
   "source": [
    "# int n1 = 10;\n",
    "\n",
    "# int n2 = n1;\n",
    "\n",
    "# #      0x100h\n",
    "# n1= [        10      ]\n",
    "\n",
    "# # 0x987h\n",
    "# n2 =[      10           ]"
   ]
  },
  {
   "attachments": {},
   "cell_type": "markdown",
   "metadata": {},
   "source": [
    "                       n2----------->[         10          ]<-------------------n1"
   ]
  },
  {
   "cell_type": "code",
   "execution_count": 18,
   "metadata": {},
   "outputs": [
    {
     "name": "stdout",
     "output_type": "stream",
     "text": [
      "10 140150252945936\n",
      "10 140150252945936\n"
     ]
    }
   ],
   "source": [
    "n1 = 10 \n",
    "\n",
    "print(n1,   id(n1)) #shows memory address and hash code!\n",
    "\n",
    "n2  =   n1\n",
    "\n",
    "print(n2,   id(n2)) #shows memory address and hash code!\n"
   ]
  },
  {
   "attachments": {},
   "cell_type": "markdown",
   "metadata": {},
   "source": [
    "### Create a list of 5 numbers. Create a function to calculate square of each of these 5 numbers and a function to calculate cube for each number"
   ]
  },
  {
   "attachments": {},
   "cell_type": "markdown",
   "metadata": {},
   "source": []
  },
  {
   "cell_type": "code",
   "execution_count": 19,
   "metadata": {},
   "outputs": [
    {
     "name": "stdout",
     "output_type": "stream",
     "text": [
      "Square of 1 is 1\n",
      "Square of 2 is 4\n",
      "Square of 3 is 9\n",
      "Square of 4 is 16\n",
      "Square of 5 is 25\n",
      "Cube of 1 is 1\n",
      "Cube of 2 is 8\n",
      "Cube of 3 is 27\n",
      "Cube of 4 is 64\n",
      "Cube of 5 is 125\n"
     ]
    }
   ],
   "source": [
    "def Square(numbers: list) -> None:\n",
    "    for number in numbers:\n",
    "        print(f\"Square of {number} is {number ** 2}\")\n",
    "\n",
    "def Cube(numbers: list) -> None:\n",
    "    for number in numbers:\n",
    "        print(f\"Cube of {number} is {number ** 3}\")\n",
    "\n",
    "\n",
    "Square(  [1,2,3,4,5]   )\n",
    "Cube([1,2,3,4,5])"
   ]
  },
  {
   "attachments": {},
   "cell_type": "markdown",
   "metadata": {},
   "source": [
    "#### LAMBDA FUNCTIONS & EXPRESSIONS"
   ]
  },
  {
   "cell_type": "code",
   "execution_count": 20,
   "metadata": {},
   "outputs": [],
   "source": [
    "#lambda <input arguments>  :   return logic\n",
    "lambda number :  number * number\n",
    "\n",
    "\n",
    "\n",
    "lambda   number :    number * 100"
   ]
  },
  {
   "cell_type": "code",
   "execution_count": 21,
   "metadata": {},
   "outputs": [
    {
     "name": "stdout",
     "output_type": "stream",
     "text": [
      "100\n"
     ]
    }
   ],
   "source": [
    "operation(  10, Square   )"
   ]
  },
  {
   "cell_type": "code",
   "execution_count": 22,
   "metadata": {},
   "outputs": [
    {
     "name": "stdout",
     "output_type": "stream",
     "text": [
      "100\n"
     ]
    }
   ],
   "source": [
    "operation(10,     lambda   number :    number ** 2      )"
   ]
  },
  {
   "cell_type": "code",
   "execution_count": 23,
   "metadata": {},
   "outputs": [
    {
     "name": "stdout",
     "output_type": "stream",
     "text": [
      "1000\n"
     ]
    }
   ],
   "source": [
    "operation(10,     lambda   number :    number * 100     ) #multiplied number by 100"
   ]
  },
  {
   "cell_type": "code",
   "execution_count": 24,
   "metadata": {},
   "outputs": [
    {
     "name": "stdout",
     "output_type": "stream",
     "text": [
      "9.0\n"
     ]
    }
   ],
   "source": [
    "operation(10,     lambda   number :    number * 0.9     ) #multiplied by 0.9 i.e 90% of 10"
   ]
  },
  {
   "attachments": {},
   "cell_type": "markdown",
   "metadata": {},
   "source": [
    "### lambda function : is a function with no name (anonymous function), that allows us to write a simple\n",
    "### one expression logic of a function in a single line for easy use"
   ]
  },
  {
   "cell_type": "code",
   "execution_count": null,
   "metadata": {},
   "outputs": [],
   "source": []
  },
  {
   "cell_type": "code",
   "execution_count": null,
   "metadata": {},
   "outputs": [],
   "source": [
    "def addition(n1: int, n2 : int) -> int:\n",
    "    return n1 + n2\n",
    "\n",
    "\n",
    "\n",
    "f1=lambda   n1, n2   :    n1 + n2\n",
    "\n"
   ]
  },
  {
   "cell_type": "code",
   "execution_count": 26,
   "metadata": {},
   "outputs": [
    {
     "name": "stdout",
     "output_type": "stream",
     "text": [
      "30\n",
      "-10\n",
      "200\n"
     ]
    }
   ],
   "source": [
    "\"\"\"\n",
    "f1_op is a 'helper function' that takes 3 parameters: n1, n2 and a function logic called fn\n",
    "It's job is to pass n1 & n2 to fn function and print whatever is the output of this action\n",
    "\"\"\"\n",
    "f1_op = lambda n1, n2, fn :  print(      fn(n1, n2)     ) \n",
    "\n",
    "\n",
    "### addition: f1_op get n1 as 10, n2 and 20, and fn is the logic for doing addition\n",
    "f1_op(       10, 20, lambda n1, n2 :  n1 + n2       )\n",
    "\n",
    "### subtraction: f1_op get n1 as 10, n2 and 20, and fn is the logic for doing subtraction\n",
    "\n",
    "f1_op(       10, 20, lambda n1, n2 :  n1 - n2       )\n",
    "\n",
    "\n",
    "### multiplication: f1_op get n1 as 10, n2 and 20, and fn is the logic for doing multiplication\n",
    "\n",
    "f1_op(       10, 20, lambda n1, n2 :  n1 * n2       )\n"
   ]
  },
  {
   "attachments": {},
   "cell_type": "markdown",
   "metadata": {},
   "source": [
    "### list comprehension???"
   ]
  },
  {
   "cell_type": "code",
   "execution_count": 27,
   "metadata": {},
   "outputs": [
    {
     "name": "stdout",
     "output_type": "stream",
     "text": [
      "[1, 4, 9, 16, 25]\n"
     ]
    }
   ],
   "source": [
    "## create a list of results which applies square to each item in [1,2,3,4,5] \n",
    "## and store the answers in results\n",
    "\n",
    "\n",
    "def Square(number : int) ->int:\n",
    "    return number * number\n",
    "\n",
    "results=[  ]\n",
    "\n",
    "data=[1,2,3,4,5]\n",
    "\n",
    "for number in data:\n",
    "    ans = Square(number)\n",
    "    results.append(ans)\n",
    "\n",
    "\n",
    "print(results)"
   ]
  },
  {
   "cell_type": "code",
   "execution_count": 28,
   "metadata": {},
   "outputs": [
    {
     "name": "stdout",
     "output_type": "stream",
     "text": [
      "[1, 4, 9, 16, 25]\n"
     ]
    }
   ],
   "source": [
    "data = [1,2,3,4,5]\n",
    "results=[   lambda number : number **2 for number in data ]\n",
    "print(results)\n",
    "\n"
   ]
  },
  {
   "cell_type": "code",
   "execution_count": 30,
   "metadata": {},
   "outputs": [
    {
     "name": "stdout",
     "output_type": "stream",
     "text": [
      "['H', 'A', 'R', 'S', 'H', 'I', 'T']\n"
     ]
    }
   ],
   "source": [
    "ans3=[]\n",
    "for letter in \"harshit\":\n",
    "    ans=letter.upper()\n",
    "    ans3.append(ans)\n",
    "print(ans3)"
   ]
  },
  {
   "cell_type": "code",
   "execution_count": 31,
   "metadata": {},
   "outputs": [],
   "source": [
    "\n"
   ]
  },
  {
   "cell_type": "code",
   "execution_count": null,
   "metadata": {},
   "outputs": [],
   "source": [
    "### list comprehension: \n",
    "\n",
    "### type 1: expression  for-loop\n",
    "\n",
    "ans1=[    number ** 3  for number in range(1,6)     ] #ans1=[1,8,27,65,125]\n",
    "\n",
    "ans2=[     number * 100 for number in [1,2,3]       ] #ans2=[100,200,300]\n",
    "\n",
    "ans3=[     letter.upper() for letter in \"harshit\"  ] #ans3=[\"H\",\"A\",\"R\",\"S\",\"H\",\"I\",\"T\"]\n",
    "\n",
    "\n",
    "###type 2: expression for-loop if-condition\n",
    "ans4=[     letter for letter in \"harshit\" if letter in [\"a\",\"e\",\"i\",\"o\",\"u\"]   ] #ans4=[\"a\",\"i\"]\n",
    "ans5=[      number for number in range(1,11) if number % 2 ==0   ] #ans5=[2,4,6,8,10]\n",
    "\n",
    "\n",
    "###type 3: expression####if-condition###else block####for-loop\n",
    "\n",
    "ans6=[    number **2 if number % 2 ==0 else number **3 for number in range(1,11,1)    ]\n",
    "\n",
    "#ans6=[1, 4, 9, 16, 125, 36, 343, 64, ...]"
   ]
  },
  {
   "attachments": {},
   "cell_type": "markdown",
   "metadata": {},
   "source": [
    "## functions : part 1: basics(yesterday)\n",
    "                part 2: advanced: first-class functions ( 5 ways python functions are similar to other objects)\n",
    "                lambda functions: one-line functions for easy use-case\n",
    "                list comprehension: make lists in one line"
   ]
  },
  {
   "attachments": {},
   "cell_type": "markdown",
   "metadata": {},
   "source": [
    "### Object Oriented programming\n",
    "\n",
    "a class what something looks like & what something can do!\n",
    "\n"
   ]
  },
  {
   "cell_type": "code",
   "execution_count": 41,
   "metadata": {},
   "outputs": [],
   "source": [
    "class Employee:\n",
    "\n",
    "    #constructor : __init__\n",
    "    def __init__(self, name : str, age : int, salary : float, eid : int) -> None:\n",
    "        #current object's employee_name field gets the value of name\n",
    "        self.employee_name = name\n",
    "        self.employee_age =age\n",
    "        self.employee_salary = salary\n",
    "        self.employee_id = eid\n",
    "\n",
    "    def calculate_salary(self) -> None:\n",
    "        print(f\"Tax on employee with id: {self.employee_id} and Salary {self.employee_salary} is {0.1 * self.employee_salary}\")\n",
    "\n",
    "    \n",
    "    def __repr__(self) -> str:\n",
    "        return f\"Resource[    'Name' : {self.employee_name}    ]\"\n",
    "        "
   ]
  },
  {
   "cell_type": "code",
   "execution_count": 46,
   "metadata": {},
   "outputs": [],
   "source": [
    "class Manager(Employee):\n",
    "\n",
    "    #Manager object requires 6 data values to be initialized.\n",
    "    # 4 of these values are sent to Employee class (already constructor is defined)\n",
    "    # remaining 2 values are set inside the Manager directly\n",
    "\n",
    "    def __init__(self, name: str, age: int, salary: float, eid: int, team : int, location : str) -> None:\n",
    "\n",
    "        #find the parent class of manager(employee). locate its __init__ method and send 4 values to it\n",
    "        super().__init__(name, age, salary, eid) #4 values go to employee\n",
    "        #remaining 2 values set directly here!\n",
    "        self.manager_team_size = team\n",
    "        self.manager_location = location\n"
   ]
  },
  {
   "cell_type": "code",
   "execution_count": 47,
   "metadata": {},
   "outputs": [
    {
     "name": "stdout",
     "output_type": "stream",
     "text": [
      "{'employee_name': 'harshit', 'employee_age': 32, 'employee_salary': 45000.0, 'employee_id': 101, 'manager_team_size': 10, 'manager_location': 'Mumbai'}\n"
     ]
    }
   ],
   "source": [
    "m1 = Manager(name = \"harshit\", age=32, salary = 45000.0, eid=101, team=10, location=\"Mumbai\")\n",
    "\n",
    "print(vars(m1))"
   ]
  },
  {
   "attachments": {},
   "cell_type": "markdown",
   "metadata": {},
   "source": [
    "Manager class does not have an implementation of calcuate_salary(it's own unique method)\n",
    "\n",
    "However, Manager can reuse everything it inherits from Employee"
   ]
  },
  {
   "cell_type": "code",
   "execution_count": 48,
   "metadata": {},
   "outputs": [
    {
     "name": "stdout",
     "output_type": "stream",
     "text": [
      "Tax on employee with id: 101 and Salary 45000.0 is 4500.0\n"
     ]
    }
   ],
   "source": [
    "m1.calculate_salary()"
   ]
  },
  {
   "attachments": {},
   "cell_type": "markdown",
   "metadata": {},
   "source": [
    "Manager does not have its own __repr__\n",
    "However there is no inside the Employee class that it can access"
   ]
  },
  {
   "cell_type": "code",
   "execution_count": 49,
   "metadata": {},
   "outputs": [
    {
     "name": "stdout",
     "output_type": "stream",
     "text": [
      "Resource[    'Name' : harshit    ]\n"
     ]
    }
   ],
   "source": [
    "print(m1)"
   ]
  },
  {
   "attachments": {},
   "cell_type": "markdown",
   "metadata": {},
   "source": [
    "(Parent/Base)Employee                               Manager(CHILD, DERIVED CLASS)"
   ]
  },
  {
   "cell_type": "markdown",
   "metadata": {},
   "source": []
  },
  {
   "cell_type": "markdown",
   "metadata": {},
   "source": []
  },
  {
   "cell_type": "markdown",
   "metadata": {},
   "source": []
  },
  {
   "cell_type": "markdown",
   "metadata": {},
   "source": []
  },
  {
   "cell_type": "code",
   "execution_count": 45,
   "metadata": {},
   "outputs": [
    {
     "name": "stdout",
     "output_type": "stream",
     "text": [
      "Resource[    'Name' : harshit    ]\n",
      "Resource[    'Name' : rohan    ]\n",
      "Tax on employee with id: 101 and Salary 45000.0 is 4500.0\n",
      "Tax on employee with id: 102 and Salary 55000.0 is 5500.0\n"
     ]
    }
   ],
   "source": [
    "emp1 = Employee(name = \"harshit\", age=32, salary = 45000.0, eid=101)\n",
    "emp2 = Employee(name = \"rohan\", age=31, salary = 55000.0, eid=102)\n",
    "\n",
    "print(emp1) #self emp1 address\n",
    "print(emp2) #self emp2 address\n",
    "\n",
    "emp1.calculate_salary()\n",
    "emp2.calculate_salary()\n",
    "\n",
    "\n"
   ]
  },
  {
   "attachments": {},
   "cell_type": "markdown",
   "metadata": {},
   "source": [
    "### Student\n",
    "\n",
    "            ----> registration_number\n",
    "            ---> fullname\n",
    "            ----> age\n",
    "            ----> branch(stream)\n",
    "            ----> fees\n",
    "-----------------------------------------\n",
    "\n",
    "            ------>scholarship_calculation(50% of their fees)\n",
    "            -----> update the full_name\n",
    "\n"
   ]
  },
  {
   "cell_type": "code",
   "execution_count": null,
   "metadata": {},
   "outputs": [],
   "source": [
    "authentication\n",
    "forms\n",
    "admin dashboard\n",
    "\n",
    "Django : tool for authentication"
   ]
  },
  {
   "cell_type": "code",
   "execution_count": 52,
   "metadata": {},
   "outputs": [],
   "source": [
    "class Student:\n",
    "\n",
    "    college_name : str=\"ABC TECH\"  #class variable (static variable from java or c#). will be shared by all objects\n",
    "   \n",
    "    def __init__(self, reg_number : str, name: str, age: int, \n",
    "                 branch: str, fees: float) -> None:\n",
    "        \n",
    "        self.student_registration_number = reg_number\n",
    "        self.student_name = name\n",
    "        self.student_age = age\n",
    "        self.student_branch = branch\n",
    "        self.student_fees = fees\n",
    "\n",
    "    @classmethod #cls should store the address of the class NOT THE OBJECT [static method]\n",
    "    def update_college_name(cls)->None:\n",
    "        new_college_name = input(\"Please enter new college name\")\n",
    "        cls.college_name  = new_college_name\n",
    "\n",
    "    def __repr__(self) -> str:\n",
    "        return self.__dict__ #dictionary stores all variables of the current ways\n",
    "    \n",
    "\n",
    "    def update_student_name(self,new_name : str)->None:\n",
    "        self.student_name = new_name\n",
    "        print(\"Name has been updated!\")\n",
    "\n",
    "    def scholarship_amount_calculation(self)->None:\n",
    "        print(f\"Scholarship amount is {self.student_fees * 0.5}\")\n",
    "\n",
    "    "
   ]
  },
  {
   "cell_type": "code",
   "execution_count": 53,
   "metadata": {},
   "outputs": [
    {
     "name": "stdout",
     "output_type": "stream",
     "text": [
      "ABC TECH ABC TECH\n"
     ]
    }
   ],
   "source": [
    "s1 = Student(\"ST101\", \"Harshit\", 22, \"CS\", 125000.0)\n",
    "\n",
    "s2 = Student(\"ST303\", \"Rohan\", 21, \"Architecture\", 225000.0)\n",
    "\n",
    "print(s1.college_name,  s2.college_name)"
   ]
  },
  {
   "cell_type": "code",
   "execution_count": 55,
   "metadata": {},
   "outputs": [
    {
     "name": "stdout",
     "output_type": "stream",
     "text": [
      "XYZ TECH XYZ TECH\n",
      "S1 TECH XYZ TECH\n"
     ]
    }
   ],
   "source": [
    "Student.college_name = \"XYZ TECH\" #always modify shared variables with the class directly\n",
    "\n",
    "print(s1.college_name,  s2.college_name)\n",
    "\n",
    "#### DO NOT DO THIS\n",
    "s1.college_name = \"S1 TECH\"\n",
    "print(s1.college_name,  s2.college_name)\n"
   ]
  },
  {
   "attachments": {},
   "cell_type": "markdown",
   "metadata": {},
   "source": [
    "\n",
    "Encapsulation : logic and data members for a particular entity can be written inside a template(class creation)\n",
    "\n",
    "Inheritance : a class can inherit (extend) from an existing class to utilize code resusability.\n",
    "\n",
    "Abstraction :\n",
    "\n",
    "Polymorphism :\n",
    "\n",
    "        --> ability to do something in more than one way\n",
    "        --> \"One name many forms\"\n",
    "        #method overriding  &    METHOD OVERLOADING & CONSTRUCTOR OVERLOADING OR GENERICS & TEMPLATE          PROGRAMMING\n",
    "        [Run-time polymorphism & compile time polymorphism(not allowed in python)]"
   ]
  },
  {
   "attachments": {},
   "cell_type": "markdown",
   "metadata": {},
   "source": [
    "## advantage: you can modify anything that is inherited!"
   ]
  },
  {
   "cell_type": "code",
   "execution_count": 60,
   "metadata": {},
   "outputs": [],
   "source": [
    "class Animal:\n",
    "\n",
    "    #instance method (method to be used with an object)\n",
    "    def make_sound(self):\n",
    "        print(\"animal makes a sound\")\n",
    "\n",
    "\n",
    "class Wolf(Animal):\n",
    "\n",
    "    #we have inherited make_sound from parent class (Animal)\n",
    "    ## BUT, WE HAVE OVERRIDDEN(CHANGED OR MODIFIED) THE LOGIC OF THAT METHOD TO SUIT OUR SPECIFIC NEEDS\n",
    "    def make_sound(self):\n",
    "        print(\"Wolf Howls!!!!!\")"
   ]
  },
  {
   "cell_type": "code",
   "execution_count": 62,
   "metadata": {},
   "outputs": [
    {
     "name": "stdout",
     "output_type": "stream",
     "text": [
      "Wolf Howls!!!!!\n",
      "animal makes a sound\n"
     ]
    }
   ],
   "source": [
    "w1 = Wolf()\n",
    "w1.make_sound()\n",
    "\n",
    "a1 = Animal()\n",
    "a1.make_sound()"
   ]
  },
  {
   "cell_type": "code",
   "execution_count": 64,
   "metadata": {},
   "outputs": [
    {
     "name": "stdout",
     "output_type": "stream",
     "text": [
      "animal makes a sound\n",
      "Wolf Howls!!!!!\n"
     ]
    }
   ],
   "source": [
    "#process_object gets one argument. It tries to find make_sound method of that object and call it\n",
    "def process_object(obj : Animal) -> None:\n",
    "    obj.make_sound()\n",
    "\n",
    "process_object(a1) #passing animal object\n",
    "process_object(w1) #passing wolf object"
   ]
  },
  {
   "cell_type": "code",
   "execution_count": 65,
   "metadata": {},
   "outputs": [
    {
     "name": "stdout",
     "output_type": "stream",
     "text": [
      "a dog barks!!\n"
     ]
    }
   ],
   "source": [
    "class Dog(Animal):\n",
    "    def make_sound(self):\n",
    "        print(\"a dog barks!!\")\n",
    "\n",
    "\n",
    "d1 = Dog()\n",
    "\n",
    "\n",
    "process_object(d1) #changed object to dog"
   ]
  },
  {
   "attachments": {},
   "cell_type": "markdown",
   "metadata": {},
   "source": [
    "MathOperations class\n",
    "\n",
    "It should be able to do the following\n",
    "\n",
    "    property of this class : number_value\n",
    "\n",
    "    a) Square of a number\n",
    "    b) Cube of a number\n",
    "    c) Factorial\n",
    "    d) percentage of the number"
   ]
  },
  {
   "cell_type": "code",
   "execution_count": 82,
   "metadata": {},
   "outputs": [],
   "source": [
    "class MathOperations:\n",
    "\n",
    "    def __init__(self, number) -> None:\n",
    "        self.number_value = number\n",
    "\n",
    "    def square(self) -> None:\n",
    "        print(f\"Square of {self.number_value} is {self.number_value ** 2}\")\n",
    "\n",
    "    def cube(self) -> None:\n",
    "        print(f\"Cube of {self.number_value} is {self.number_value ** 3}\")\n",
    "\n",
    "    def factorial(self) -> int:\n",
    "        if self.number_value < 0:\n",
    "            return -1\n",
    "\n",
    "        elif self.number_value == 0 or self.number_value == 1:\n",
    "            return 1   \n",
    "        \n",
    "        else:\n",
    "            ans = 1\n",
    "            for count in range(2, number + 1, 1):\n",
    "                ans = ans * count\n",
    "\n",
    "            return ans\n",
    "        \n",
    "    def calculate_percentage(self, pct_factor : float)->None:\n",
    "\n",
    "        ans = (pct_factor/100) * self.number_value\n",
    "\n",
    "        print(f\"{pct_factor} percentage of {self.number_value} is {ans}\")\n",
    "\n"
   ]
  },
  {
   "cell_type": "code",
   "execution_count": 83,
   "metadata": {},
   "outputs": [
    {
     "data": {
      "text/plain": [
       "120"
      ]
     },
     "execution_count": 83,
     "metadata": {},
     "output_type": "execute_result"
    }
   ],
   "source": [
    "obj = MathOperations(5)\n",
    "\n",
    "obj.factorial()"
   ]
  },
  {
   "attachments": {},
   "cell_type": "markdown",
   "metadata": {},
   "source": [
    "### Error/Exception in Python"
   ]
  },
  {
   "attachments": {},
   "cell_type": "markdown",
   "metadata": {},
   "source": [
    "# TypeError : Occurs when operation is invalid for given operands (variables or data around your operator)"
   ]
  },
  {
   "cell_type": "code",
   "execution_count": 67,
   "metadata": {},
   "outputs": [
    {
     "ename": "TypeError",
     "evalue": "unsupported operand type(s) for +: 'int' and 'str'",
     "output_type": "error",
     "traceback": [
      "\u001b[0;31m---------------------------------------------------------------------------\u001b[0m",
      "\u001b[0;31mTypeError\u001b[0m                                 Traceback (most recent call last)",
      "Cell \u001b[0;32mIn[67], line 1\u001b[0m\n\u001b[0;32m----> 1\u001b[0m \u001b[39mprint\u001b[39m(    \u001b[39m10\u001b[39;49m \u001b[39m+\u001b[39;49m \u001b[39m\"\u001b[39;49m\u001b[39mHarshit\u001b[39;49m\u001b[39m\"\u001b[39;49m    )\n",
      "\u001b[0;31mTypeError\u001b[0m: unsupported operand type(s) for +: 'int' and 'str'"
     ]
    }
   ],
   "source": [
    "print(    10 + \"Harshit\"    )"
   ]
  },
  {
   "attachments": {},
   "cell_type": "markdown",
   "metadata": {},
   "source": [
    "#AttributeError : Indicates that property or method does not exist in the class of object being used"
   ]
  },
  {
   "cell_type": "code",
   "execution_count": 68,
   "metadata": {},
   "outputs": [
    {
     "ename": "AttributeError",
     "evalue": "'list' object has no attribute 'upper'",
     "output_type": "error",
     "traceback": [
      "\u001b[0;31m---------------------------------------------------------------------------\u001b[0m",
      "\u001b[0;31mAttributeError\u001b[0m                            Traceback (most recent call last)",
      "Cell \u001b[0;32mIn[68], line 3\u001b[0m\n\u001b[1;32m      1\u001b[0m numbers\u001b[39m=\u001b[39m[\u001b[39m1\u001b[39m,\u001b[39m2\u001b[39m,\u001b[39m3\u001b[39m,\u001b[39m4\u001b[39m]\n\u001b[0;32m----> 3\u001b[0m numbers\u001b[39m.\u001b[39;49mupper() \u001b[39m#this is not a valid operation for list object\u001b[39;00m\n",
      "\u001b[0;31mAttributeError\u001b[0m: 'list' object has no attribute 'upper'"
     ]
    }
   ],
   "source": [
    "numbers=[1,2,3,4]\n",
    "\n",
    "numbers.upper() #this is not a valid operation for list object"
   ]
  },
  {
   "cell_type": "code",
   "execution_count": 69,
   "metadata": {},
   "outputs": [
    {
     "ename": "TypeError",
     "evalue": "addition() missing 2 required positional arguments: 'n1' and 'n2'",
     "output_type": "error",
     "traceback": [
      "\u001b[0;31m---------------------------------------------------------------------------\u001b[0m",
      "\u001b[0;31mTypeError\u001b[0m                                 Traceback (most recent call last)",
      "Cell \u001b[0;32mIn[69], line 4\u001b[0m\n\u001b[1;32m      1\u001b[0m \u001b[39mdef\u001b[39;00m \u001b[39maddition\u001b[39m(n1, n2) \u001b[39m-\u001b[39m\u001b[39m>\u001b[39m\u001b[39mNone\u001b[39;00m:\n\u001b[1;32m      2\u001b[0m     \u001b[39mprint\u001b[39m(n1 \u001b[39m+\u001b[39m n2)\n\u001b[0;32m----> 4\u001b[0m addition()\n",
      "\u001b[0;31mTypeError\u001b[0m: addition() missing 2 required positional arguments: 'n1' and 'n2'"
     ]
    }
   ],
   "source": [
    "def addition(n1, n2) ->None:\n",
    "    print(n1 + n2)\n",
    "\n",
    "addition()"
   ]
  },
  {
   "attachments": {},
   "cell_type": "markdown",
   "metadata": {},
   "source": [
    "#ZeroDivisionError : occurs when a number is being divided by 0"
   ]
  },
  {
   "cell_type": "code",
   "execution_count": 70,
   "metadata": {},
   "outputs": [
    {
     "ename": "ZeroDivisionError",
     "evalue": "division by zero",
     "output_type": "error",
     "traceback": [
      "\u001b[0;31m---------------------------------------------------------------------------\u001b[0m",
      "\u001b[0;31mZeroDivisionError\u001b[0m                         Traceback (most recent call last)",
      "Cell \u001b[0;32mIn[70], line 3\u001b[0m\n\u001b[1;32m      1\u001b[0m n1 \u001b[39m=\u001b[39m \u001b[39m10\u001b[39m\n\u001b[0;32m----> 3\u001b[0m \u001b[39mprint\u001b[39m(n1 \u001b[39m/\u001b[39;49m \u001b[39m0\u001b[39;49m)\n",
      "\u001b[0;31mZeroDivisionError\u001b[0m: division by zero"
     ]
    }
   ],
   "source": [
    "n1 = 10\n",
    "\n",
    "print(n1 / 0)"
   ]
  },
  {
   "cell_type": "code",
   "execution_count": 72,
   "metadata": {},
   "outputs": [
    {
     "ename": "RecursionError",
     "evalue": "maximum recursion depth exceeded",
     "output_type": "error",
     "traceback": [
      "\u001b[0;31m---------------------------------------------------------------------------\u001b[0m",
      "\u001b[0;31mRecursionError\u001b[0m                            Traceback (most recent call last)",
      "Cell \u001b[0;32mIn[72], line 5\u001b[0m\n\u001b[1;32m      1\u001b[0m \u001b[39mdef\u001b[39;00m \u001b[39mmagic\u001b[39m():\n\u001b[1;32m      2\u001b[0m     magic() \u001b[39m#recurssion\u001b[39;00m\n\u001b[0;32m----> 5\u001b[0m magic()\n",
      "Cell \u001b[0;32mIn[72], line 2\u001b[0m, in \u001b[0;36mmagic\u001b[0;34m()\u001b[0m\n\u001b[1;32m      1\u001b[0m \u001b[39mdef\u001b[39;00m \u001b[39mmagic\u001b[39m():\n\u001b[0;32m----> 2\u001b[0m     magic()\n",
      "Cell \u001b[0;32mIn[72], line 2\u001b[0m, in \u001b[0;36mmagic\u001b[0;34m()\u001b[0m\n\u001b[1;32m      1\u001b[0m \u001b[39mdef\u001b[39;00m \u001b[39mmagic\u001b[39m():\n\u001b[0;32m----> 2\u001b[0m     magic()\n",
      "    \u001b[0;31m[... skipping similar frames: magic at line 2 (2970 times)]\u001b[0m\n",
      "Cell \u001b[0;32mIn[72], line 2\u001b[0m, in \u001b[0;36mmagic\u001b[0;34m()\u001b[0m\n\u001b[1;32m      1\u001b[0m \u001b[39mdef\u001b[39;00m \u001b[39mmagic\u001b[39m():\n\u001b[0;32m----> 2\u001b[0m     magic()\n",
      "\u001b[0;31mRecursionError\u001b[0m: maximum recursion depth exceeded"
     ]
    }
   ],
   "source": [
    "def magic():\n",
    "    magic() #recurssion\n",
    "\n",
    "magic()"
   ]
  },
  {
   "attachments": {},
   "cell_type": "markdown",
   "metadata": {},
   "source": [
    "### ValueError: occurs when value stored in a variable is invalid or incompatible with an operation"
   ]
  },
  {
   "cell_type": "code",
   "execution_count": 73,
   "metadata": {},
   "outputs": [
    {
     "ename": "ValueError",
     "evalue": "invalid literal for int() with base 10: 'python'",
     "output_type": "error",
     "traceback": [
      "\u001b[0;31m---------------------------------------------------------------------------\u001b[0m",
      "\u001b[0;31mValueError\u001b[0m                                Traceback (most recent call last)",
      "Cell \u001b[0;32mIn[73], line 1\u001b[0m\n\u001b[0;32m----> 1\u001b[0m n1 \u001b[39m=\u001b[39m \u001b[39mint\u001b[39;49m(   \u001b[39minput\u001b[39;49m(\u001b[39m\"\u001b[39;49m\u001b[39mEnter a number : \u001b[39;49m\u001b[39m\"\u001b[39;49m)    ) \u001b[39m#python\u001b[39;00m\n",
      "\u001b[0;31mValueError\u001b[0m: invalid literal for int() with base 10: 'python'"
     ]
    }
   ],
   "source": [
    "n1 = int(   input(\"Enter a number : \")    ) #python"
   ]
  },
  {
   "cell_type": "code",
   "execution_count": 74,
   "metadata": {},
   "outputs": [
    {
     "data": {
      "text/plain": [
       "3000"
      ]
     },
     "execution_count": 74,
     "metadata": {},
     "output_type": "execute_result"
    }
   ],
   "source": [
    "import sys\n",
    "\n",
    "sys.getrecursionlimit()"
   ]
  },
  {
   "cell_type": "code",
   "execution_count": 84,
   "metadata": {},
   "outputs": [],
   "source": [
    "#exception handling"
   ]
  },
  {
   "attachments": {},
   "cell_type": "markdown",
   "metadata": {},
   "source": [
    "try block : for writing a statement or a series of statement THAT MAY LEAD TO A RUNTIME ERROR!\n",
    "\n",
    "except blocks : for writing a logic to handle a specific type of RUNTIME ERROR OR ALL TYPES OF ERRORS!\n",
    "\n",
    "else block : for writing WHAT TO DO IN CASE AN ERROR/EXCEPTION IS NOT OBSERVED IN THE TRY BLOCK\n",
    "\n",
    "finally block : for writing clean-up/closing/shutdown/resource-release kind of code which will be executed\n",
    "                in both scenario - exception or no exception"
   ]
  },
  {
   "cell_type": "code",
   "execution_count": 87,
   "metadata": {},
   "outputs": [
    {
     "name": "stdout",
     "output_type": "stream",
     "text": [
      "Cannot do sorting\n",
      "Thanks for sending a list\n"
     ]
    }
   ],
   "source": [
    "def operation(   argument : int | float | dict | list | str   ) -> None:\n",
    "    if isinstance(argument, list):\n",
    "        try:\n",
    "            argument.sort()\n",
    "        except TypeError:\n",
    "            print(\"Cannot do sorting\")\n",
    "        \n",
    "        else:\n",
    "            print(f\"After sorting list: {argument}\")\n",
    "        finally:\n",
    "            print(\"Thanks for sending a list\")\n",
    "\n",
    "    elif isinstance(argument, dict):\n",
    "        print(argument.keys())\n",
    "\n",
    "    elif isinstance(argument, str):\n",
    "        print(argument.upper())    \n",
    "\n",
    "    elif isinstance(argument, (int,float)  ):\n",
    "        print(argument ** 2)\n",
    "\n",
    "    else:\n",
    "        print(\"please provide one of the 5 hinted arguments\")\n",
    "\n",
    "\n",
    "operation([1,\"harshit\", 2, 4, 5, 'python'])"
   ]
  }
 ],
 "metadata": {
  "kernelspec": {
   "display_name": "Python 3",
   "language": "python",
   "name": "python3"
  },
  "language_info": {
   "codemirror_mode": {
    "name": "ipython",
    "version": 3
   },
   "file_extension": ".py",
   "mimetype": "text/x-python",
   "name": "python",
   "nbconvert_exporter": "python",
   "pygments_lexer": "ipython3",
   "version": "3.10.6"
  },
  "orig_nbformat": 4
 },
 "nbformat": 4,
 "nbformat_minor": 2
}
