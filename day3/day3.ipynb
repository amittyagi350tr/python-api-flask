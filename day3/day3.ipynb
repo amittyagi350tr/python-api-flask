{
 "cells": [
  {
   "attachments": {},
   "cell_type": "markdown",
   "metadata": {},
   "source": [
    "map\n",
    "filter\n",
    "reduce\n",
    "\n",
    "exception handling in depth\n",
    "\n",
    "file handling\n",
    "\n",
    "examples on OOP"
   ]
  },
  {
   "cell_type": "code",
   "execution_count": 1,
   "metadata": {},
   "outputs": [
    {
     "name": "stdout",
     "output_type": "stream",
     "text": [
      "[1, 4, 9, 16, 25, 36, 49, 64, 81, 100]\n"
     ]
    }
   ],
   "source": [
    "numbers=[number ** 2 for number in range(1,11,1)]\n",
    "print(numbers)"
   ]
  },
  {
   "attachments": {},
   "cell_type": "markdown",
   "metadata": {},
   "source": [
    "### reverse each number stored in numbers"
   ]
  },
  {
   "cell_type": "code",
   "execution_count": 5,
   "metadata": {},
   "outputs": [
    {
     "data": {
      "text/plain": [
       "651"
      ]
     },
     "execution_count": 5,
     "metadata": {},
     "output_type": "execute_result"
    }
   ],
   "source": [
    "def find_number(number :int)->int:\n",
    "\n",
    "    #number would now be a string in reverse of original argument\n",
    "    number = str(number)[ : :-1 ]\n",
    "\n",
    "    #return reversed number converted to int\n",
    "    return int(number)\n",
    "\n",
    "\n",
    "find_number(156)"
   ]
  },
  {
   "cell_type": "code",
   "execution_count": 10,
   "metadata": {},
   "outputs": [
    {
     "name": "stdout",
     "output_type": "stream",
     "text": [
      "Before : [1, 4, 9, 16, 25, 36, 49, 64, 81, 100]\n",
      "After : [1, 4, 9, 61, 52, 63, 94, 46, 18, 1]\n"
     ]
    }
   ],
   "source": [
    "## structure oriented\n",
    "ans=[]\n",
    "\n",
    "print(f\"Before : {numbers}\")\n",
    "for item in numbers:\n",
    "    result = find_number(item)\n",
    "    ans.append(result)\n",
    "\n",
    "\n",
    "print(f\"After : {ans}\")\n"
   ]
  },
  {
   "cell_type": "code",
   "execution_count": 12,
   "metadata": {},
   "outputs": [
    {
     "name": "stdout",
     "output_type": "stream",
     "text": [
      "[1, 4, 9, 61, 52, 63, 94, 46, 18, 1]\n"
     ]
    }
   ],
   "source": [
    "#ans is a list of result of find_number called on every number in the \"numbers\" list\n",
    "ans = [     find_number(number) for number in numbers          ]\n",
    "print(ans)"
   ]
  },
  {
   "cell_type": "code",
   "execution_count": null,
   "metadata": {},
   "outputs": [],
   "source": [
    "ans=[   find_number(number)   for number in numbers      ]"
   ]
  },
  {
   "cell_type": "code",
   "execution_count": null,
   "metadata": {},
   "outputs": [],
   "source": []
  },
  {
   "cell_type": "code",
   "execution_count": null,
   "metadata": {},
   "outputs": [],
   "source": []
  },
  {
   "attachments": {},
   "cell_type": "markdown",
   "metadata": {},
   "source": [
    "156\n",
    "\n",
    "remainder with 10:  last digit\n",
    "\n",
    "\n",
    "division with 10 (quotient) : all digits except the last\n"
   ]
  },
  {
   "cell_type": "code",
   "execution_count": 7,
   "metadata": {},
   "outputs": [
    {
     "name": "stdout",
     "output_type": "stream",
     "text": [
      "651\n"
     ]
    }
   ],
   "source": [
    "def reverse_number(number : int) -> int:\n",
    "    \n",
    "    #rev=\"\"\n",
    "    rev = \"\"\n",
    "    \n",
    "    while number > 0:\n",
    "        rem = number % 10\n",
    "        number = number // 10\n",
    "\n",
    "        rev = rev + str(rem)\n",
    "\n",
    "    print(rev)\n",
    "\n",
    "\n",
    "reverse_number(156)"
   ]
  },
  {
   "attachments": {},
   "cell_type": "markdown",
   "metadata": {},
   "source": [
    "#### at this point ans list is created in memory with 10000 numbers all existing at the same"
   ]
  },
  {
   "cell_type": "code",
   "execution_count": 13,
   "metadata": {},
   "outputs": [],
   "source": [
    "ans = [      number **2          for number in range(1, 10001, 1)           ]\n"
   ]
  },
  {
   "attachments": {},
   "cell_type": "markdown",
   "metadata": {},
   "source": [
    "#### generator expression : something that produces value on demand -one at a time"
   ]
  },
  {
   "cell_type": "code",
   "execution_count": 14,
   "metadata": {},
   "outputs": [],
   "source": [
    "ans = (     number **2          for number in range(1, 10001, 1)   )\n"
   ]
  },
  {
   "cell_type": "code",
   "execution_count": 15,
   "metadata": {},
   "outputs": [
    {
     "name": "stdout",
     "output_type": "stream",
     "text": [
      "1\n"
     ]
    }
   ],
   "source": [
    "## give me the next entry from this generator\n",
    "\n",
    "print( next(ans)    )"
   ]
  },
  {
   "cell_type": "code",
   "execution_count": 16,
   "metadata": {},
   "outputs": [
    {
     "name": "stdout",
     "output_type": "stream",
     "text": [
      "4\n"
     ]
    }
   ],
   "source": [
    "## give me the next entry from this generator\n",
    "\n",
    "print( next(ans)    )"
   ]
  },
  {
   "cell_type": "code",
   "execution_count": 17,
   "metadata": {},
   "outputs": [
    {
     "name": "stdout",
     "output_type": "stream",
     "text": [
      "9\n",
      "16\n",
      "25\n"
     ]
    }
   ],
   "source": [
    "## give me the next entry from this generator\n",
    "\n",
    "print( next(ans)    )\n",
    "\n",
    "## give me the next entry from this generator\n",
    "\n",
    "print( next(ans)    )\n",
    "\n",
    "## give me the next entry from this generator\n",
    "\n",
    "print( next(ans)    )"
   ]
  },
  {
   "cell_type": "code",
   "execution_count": 19,
   "metadata": {},
   "outputs": [
    {
     "name": "stdout",
     "output_type": "stream",
     "text": [
      "<generator object <genexpr> at 0x7fd41efcb530>\n",
      "H\n",
      "A\n",
      "<generator object <genexpr> at 0x7fd41efcb530>\n",
      "<generator object <genexpr> at 0x7fd41efcb530>\n",
      "['R', 'S', 'H', 'I', 'T']\n"
     ]
    }
   ],
   "source": [
    "g1 = (     letter.upper()   for letter in \"harshit\"        )\n",
    "\n",
    "print(g1)\n",
    "\n",
    "\n",
    "print(next(g1))\n",
    "\n",
    "print(next(g1))\n",
    "\n",
    "print(g1)\n",
    "\n",
    "print(g1)\n",
    "\n",
    "print(      list(g1)  ) #convert remaining items into a list\n"
   ]
  },
  {
   "attachments": {},
   "cell_type": "markdown",
   "metadata": {},
   "source": [
    "## 3 ways to fetch values from generator"
   ]
  },
  {
   "attachments": {},
   "cell_type": "markdown",
   "metadata": {},
   "source": [
    "generator--------------------------------------->entry\n",
    "                                                 \"H\""
   ]
  },
  {
   "cell_type": "code",
   "execution_count": 20,
   "metadata": {},
   "outputs": [
    {
     "name": "stdout",
     "output_type": "stream",
     "text": [
      "H\n",
      "A\n",
      "A\n",
      "R\n",
      "R\n",
      "S\n",
      "S\n",
      "H\n",
      "H\n",
      "I\n",
      "I\n",
      "T\n",
      "T\n"
     ]
    }
   ],
   "source": [
    "g1 = (     letter.upper()   for letter in \"harshit\"        )\n",
    "\n",
    "\n",
    "print(next(g1)) #fetching next entry manually\n",
    "\n",
    "\n",
    "#all entries produced by g1 will be feteched : equivalent to calling next(g1) as  many times as the length of generator\n",
    "\n",
    "for entry in g1: #### entry variable now holds the next item\n",
    "    print(entry)\n",
    "    print(entry) \n",
    "\n",
    "    print(\"hello\")\n",
    "\n",
    "\n",
    "    print(entry) #still in scope. so I can still use current value"
   ]
  },
  {
   "cell_type": "code",
   "execution_count": 22,
   "metadata": {},
   "outputs": [
    {
     "name": "stdout",
     "output_type": "stream",
     "text": [
      "H\n",
      "A\n",
      "R\n",
      "S\n",
      "H\n",
      "I\n",
      "T\n",
      "Done\n"
     ]
    }
   ],
   "source": [
    "g1 = (     letter.upper()   for letter in \"harshit\"        )\n",
    "\n",
    "\n",
    "while True:\n",
    "    try:\n",
    "        print(next(g1))\n",
    "    except StopIteration :\n",
    "        print(\"Done\")\n",
    "        break\n",
    "        "
   ]
  },
  {
   "attachments": {},
   "cell_type": "markdown",
   "metadata": {},
   "source": [
    "### converting a regular function into a generator"
   ]
  },
  {
   "attachments": {},
   "cell_type": "markdown",
   "metadata": {},
   "source": [
    "\n",
    "\n",
    "[genertor]           0\n",
    "magic            ----------------->               next(g1)\n",
    "\n",
    "last item: 1\n",
    "                        1\n",
    "                ----------------------->   next(g1)"
   ]
  },
  {
   "cell_type": "code",
   "execution_count": 26,
   "metadata": {},
   "outputs": [
    {
     "name": "stdout",
     "output_type": "stream",
     "text": [
      "0\n",
      "1\n",
      "4\n",
      "[9, 16]\n"
     ]
    }
   ],
   "source": [
    "def magic(counter : int) -> int:\n",
    "    for idx in range(counter):     # range(0, counter, 1) one value in range(stopping value). start is assumed to be 0 & step is +1\n",
    "        result=idx ** 2\n",
    "        yield result #makes function a\n",
    "\n",
    "\n",
    "\n",
    "\n",
    "#g1 will now become generator\n",
    "g1 = magic(5)\n",
    "\n",
    "\n",
    "print(next(g1))\n",
    "\n",
    "print(next(g1))\n",
    "\n",
    "print(next(g1))\n",
    "\n",
    "print(list(g1)) #remaining values\n",
    "\n",
    "g1 = magic(5) #resetting takes place here!\n",
    "\n"
   ]
  },
  {
   "cell_type": "code",
   "execution_count": 30,
   "metadata": {},
   "outputs": [
    {
     "name": "stdout",
     "output_type": "stream",
     "text": [
      "1\n",
      "4\n",
      "9\n",
      "16\n",
      "25\n",
      "36\n",
      "49\n",
      "100\n",
      "400\n",
      "900\n"
     ]
    }
   ],
   "source": [
    "for ans in map(lambda x  :  x ** 2,       [1,2,3,4, 5,6,7, 10,20,30]    ):\n",
    "    print(ans)"
   ]
  },
  {
   "attachments": {},
   "cell_type": "markdown",
   "metadata": {},
   "source": [
    "### apply a function on a collection of values\n",
    "\n",
    "for number in data:\n",
    "    f1(number)\n",
    "\n",
    "\n",
    "ans=[       f1(number)  for number in data     ]"
   ]
  },
  {
   "cell_type": "code",
   "execution_count": 31,
   "metadata": {},
   "outputs": [
    {
     "name": "stdout",
     "output_type": "stream",
     "text": [
      "[1, 4, 9, 16, 25, 36, 49, 100, 400, 900]\n"
     ]
    }
   ],
   "source": [
    "#function, lambda function, class method, a library function\n",
    "\n",
    "#explain the logic or \"what\" is to be done with data values\n",
    "f1=lambda x  :  x ** 2\n",
    "\n",
    "data=[1,2,3,4, 5,6,7, 10,20,30]\n",
    "\n",
    "#map lambda function f1 on the list of numbers \"data\". Convert all output values produced into a list\n",
    "ans = list(  map(  f1  , data           ) )\n",
    "\n",
    "print(ans)"
   ]
  },
  {
   "attachments": {},
   "cell_type": "markdown",
   "metadata": {},
   "source": [
    "## map applies given function to each entry in a COLLECTION OF VALUES"
   ]
  },
  {
   "cell_type": "code",
   "execution_count": 32,
   "metadata": {},
   "outputs": [
    {
     "name": "stdout",
     "output_type": "stream",
     "text": [
      "['H', 'A', 'R', 'S', 'H', 'I', 'T']\n"
     ]
    }
   ],
   "source": [
    "ans=list( map( str.upper, \"harshit\"  )  ) #map string class upper method on \"harshit\" and produce the output\n",
    "\n",
    "\n",
    "print(ans)"
   ]
  },
  {
   "cell_type": "code",
   "execution_count": 33,
   "metadata": {},
   "outputs": [
    {
     "name": "stdout",
     "output_type": "stream",
     "text": [
      "[1.0, 2.0, 3.0, 4.0]\n"
     ]
    }
   ],
   "source": [
    "import math\n",
    "\n",
    "ans = list(   map (   math.log10  ,[10, 100, 1000, 10000]  ) )\n",
    "\n",
    "print(ans)"
   ]
  },
  {
   "cell_type": "code",
   "execution_count": 34,
   "metadata": {},
   "outputs": [
    {
     "name": "stdout",
     "output_type": "stream",
     "text": [
      "[9.0, 6.0, 5.0, 10.0]\n"
     ]
    }
   ],
   "source": [
    "import math\n",
    "\n",
    "ans = list(   map (   math.sqrt  ,[81, 36,  25, 100]  ) )\n",
    "\n",
    "print(ans)"
   ]
  },
  {
   "attachments": {},
   "cell_type": "markdown",
   "metadata": {},
   "source": [
    "### filter out elements based on a condition"
   ]
  },
  {
   "cell_type": "code",
   "execution_count": 36,
   "metadata": {},
   "outputs": [
    {
     "name": "stdout",
     "output_type": "stream",
     "text": [
      "[10, 90, 80, 76]\n"
     ]
    }
   ],
   "source": [
    "\n",
    "                        #a predicate: a boolean logic\n",
    "f2 = lambda   number   :      number    %    2 == 0\n",
    "\n",
    "\n",
    "data = [10, 11, 145, -11, 90, 80, 76]\n",
    "\n",
    "#filter will apply lambda f2 on data. f2 returns true only for even numbers. so only those numbers go to ans\n",
    "ans=list (     filter(f2,  data)  )\n",
    "\n",
    "print(ans)"
   ]
  },
  {
   "cell_type": "code",
   "execution_count": 37,
   "metadata": {},
   "outputs": [
    {
     "name": "stdout",
     "output_type": "stream",
     "text": [
      "[True, False, False, False, True, True, True]\n"
     ]
    }
   ],
   "source": [
    "f2 = lambda   number   :      number    %    2 == 0\n",
    "\n",
    "\n",
    "data = [10, 11, 145, -11, 90, 80, 76]\n",
    "\n",
    "#map will apply lambda f2 on data. f2 returns true or false respectively for each entry\n",
    "\n",
    "print(ans)"
   ]
  },
  {
   "attachments": {},
   "cell_type": "markdown",
   "metadata": {},
   "source": [
    "2,3,4\n",
    "\n",
    "step 1: take first 2 items from this set 2 & 3\n",
    "            2 ** 3 = 8\n",
    "\n",
    "step 2: result of previous step and next entry from the set\n",
    "\n",
    "        8   **  4 = \n"
   ]
  },
  {
   "cell_type": "code",
   "execution_count": 46,
   "metadata": {},
   "outputs": [
    {
     "name": "stdout",
     "output_type": "stream",
     "text": [
      "120\n"
     ]
    }
   ],
   "source": [
    "f1 = lambda   n1, n2  :   n1 * n2\n",
    "import functools\n",
    "data=[2,3,4, 5]\n",
    "#ans is a answer of reduce of f1 applied on data\n",
    "ans = functools.reduce(f1, data)\n",
    "print(ans)\n",
    "\n",
    "# ( (2* 3) *  4  )  * 5)\n",
    "\n"
   ]
  },
  {
   "cell_type": "code",
   "execution_count": 48,
   "metadata": {},
   "outputs": [
    {
     "name": "stdout",
     "output_type": "stream",
     "text": [
      "[-10]\n"
     ]
    }
   ],
   "source": [
    "f1 = lambda   n1, n2  :   n1 - n2\n",
    "import functools\n",
    "data=[2,3,4, 5]\n",
    "#ans is a answer of reduce of f1 applied on data\n",
    "ans = functools.reduce(f1, data)\n",
    "result = [ans]\n",
    "print(result)\n",
    "\n",
    "# ( ( (2-3) -  4  )  -  5  )\n",
    "\n"
   ]
  },
  {
   "cell_type": "code",
   "execution_count": null,
   "metadata": {},
   "outputs": [],
   "source": [
    ".py : scripts, programs & source code for applications\n",
    "\n",
    ".ipynb : create a notebook (learning & training), render data tables, graphs\n",
    "            & images & links (data science)"
   ]
  }
 ],
 "metadata": {
  "kernelspec": {
   "display_name": "Python 3",
   "language": "python",
   "name": "python3"
  },
  "language_info": {
   "codemirror_mode": {
    "name": "ipython",
    "version": 3
   },
   "file_extension": ".py",
   "mimetype": "text/x-python",
   "name": "python",
   "nbconvert_exporter": "python",
   "pygments_lexer": "ipython3",
   "version": "3.10.6"
  },
  "orig_nbformat": 4
 },
 "nbformat": 4,
 "nbformat_minor": 2
}
