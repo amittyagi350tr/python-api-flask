{
 "cells": [
  {
   "cell_type": "code",
   "execution_count": null,
   "metadata": {},
   "outputs": [],
   "source": [
    "print(\"Hello,World!\")\n",
    "print(\"Harshit Shukla\")\n",
    "print(\"Python\")"
   ]
  },
  {
   "cell_type": "code",
   "execution_count": null,
   "metadata": {},
   "outputs": [],
   "source": [
    "n1 = 10 #int\n",
    "name = \"Harshit\" #str type of data\n",
    "experience = 8.7 #float"
   ]
  },
  {
   "cell_type": "code",
   "execution_count": null,
   "metadata": {},
   "outputs": [],
   "source": [
    "print( name )\n",
    "print(n1, experience) #multiple variables in the same print function"
   ]
  },
  {
   "cell_type": "code",
   "execution_count": null,
   "metadata": {},
   "outputs": [],
   "source": [
    "numbers = [  10,20,30,40,50,-91,-100.21  ] #list : mutable\n",
    "\n",
    "tp = ( 10,20,30,40,100 ) #tuple: immutable, data cannot be modified\n",
    "\n",
    "#dictionary : hash table\n",
    "employee={\n",
    "    \"name\" : [\"harshit\", \"trainer\"],\n",
    "    \"age\": 32,\n",
    "    \"location\": \"Mumbai\"\n",
    "}\n",
    "\n",
    "print(numbers[0]) #10\n",
    "print(tp[1])#20\n",
    "print(employee[\"name\"])"
   ]
  },
  {
   "attachments": {},
   "cell_type": "markdown",
   "metadata": {},
   "source": [
    "pandas : data analytics\n",
    "plotly : data visualization\n",
    "API development : Flask"
   ]
  },
  {
   "attachments": {},
   "cell_type": "markdown",
   "metadata": {},
   "source": [
    "part 1 : essentials\n",
    "\n",
    "part 2 : intermediate : functional programming, object oriented programming\n",
    "\n",
    "part 3 : API development\n",
    "\n"
   ]
  },
  {
   "cell_type": "code",
   "execution_count": null,
   "metadata": {},
   "outputs": [],
   "source": [
    "employees={\n",
    "    101 : {\n",
    "        \"name\" : \"harshit\",\n",
    "        \"age\" : 32\n",
    "    },\n",
    "\n",
    "    102 : {\n",
    "        \"name\" : \"rohan\",\n",
    "        \"age\" : 31\n",
    "    }\n",
    "}\n",
    "\n",
    "print(employees[101])\n",
    "print(employees[102][\"name\"])"
   ]
  },
  {
   "cell_type": "code",
   "execution_count": 13,
   "metadata": {},
   "outputs": [
    {
     "name": "stdout",
     "output_type": "stream",
     "text": [
      "You cannot vote\n",
      "Need to be at least 18\n"
     ]
    }
   ],
   "source": [
    "age = 10\n",
    "\n",
    "if age < 18 :\n",
    "    print(\"You cannot vote\")\n",
    "    print(\"Need to be at least 18\")\n",
    "else:\n",
    "    print(\"You can vote now\")"
   ]
  },
  {
   "cell_type": "code",
   "execution_count": 14,
   "metadata": {},
   "outputs": [
    {
     "name": "stdout",
     "output_type": "stream",
     "text": [
      "Even number\n"
     ]
    }
   ],
   "source": [
    "n1 = 10\n",
    "\n",
    "if  n1   %   2  == 0 :\n",
    "    print(\"Even number\")\n",
    "    print(\"divisible\")\n",
    "else:\n",
    "    print(\"odd number\")"
   ]
  },
  {
   "cell_type": "code",
   "execution_count": null,
   "metadata": {},
   "outputs": [],
   "source": [
    "n1 = 100\n",
    "\n",
    "if n1 < 0 :\n",
    "    print(\"Negative number\")\n",
    "elif n1 > 0 and n1 < 50:\n",
    "    print(\"positive number less than 50\")\n",
    "else:\n",
    "    print(\"positive number 50 or more\")"
   ]
  },
  {
   "attachments": {},
   "cell_type": "markdown",
   "metadata": {},
   "source": [
    "### operators\n",
    "\n",
    "##### 1) Arithmetic"
   ]
  },
  {
   "cell_type": "code",
   "execution_count": 19,
   "metadata": {},
   "outputs": [
    {
     "name": "stdout",
     "output_type": "stream",
     "text": [
      "10 plus 4 gives 14\n",
      "10 minus 4 gives 6\n",
      "10 times 4 gives 40\n",
      "10 divided by 4 gives 2.5\n",
      "10 floor division 4 gives 2\n",
      "10 divided by 4 gives remainder 2\n",
      "10 raised to the power of 4 gives 10000\n"
     ]
    }
   ],
   "source": [
    "n1 = 10\n",
    "\n",
    "n2 = 4\n",
    "\n",
    "#formatting output string\n",
    "print(   f\"{n1} plus {n2} gives {n1 + n2}\"   )\n",
    "print(   f\"{n1} minus {n2} gives {n1 - n2}\"  )\n",
    "print(   f\"{n1} times {n2} gives {n1 * n2}\"     )\n",
    "print( f\"{n1} divided by {n2} gives {n1  /  n2}\") #exact answer\n",
    "print(f\"{n1} floor division {n2} gives {n1 // n2}\") #quotient\n",
    "print(f\"{n1} divided by {n2} gives remainder {n1 % n2}\") #remainder\n",
    "print(f\"{n1} raised to the power of {n2} gives {n1 ** n2}\") #exponent"
   ]
  },
  {
   "cell_type": "code",
   "execution_count": 22,
   "metadata": {},
   "outputs": [
    {
     "name": "stdout",
     "output_type": "stream",
     "text": [
      "True\n",
      "True\n",
      "True\n"
     ]
    }
   ],
   "source": [
    "#  and, or not\n",
    "\n",
    "print(   10 > 2    and   10  > 7    )\n",
    "print(   10 > 2   or   10 > 11    )\n",
    "print (    not (10 > 11)    )"
   ]
  },
  {
   "attachments": {},
   "cell_type": "markdown",
   "metadata": {},
   "source": [
    "### loops\n",
    "\n",
    "#for loop\n",
    "### for-each loop (iterative for loop, range-based for loop)"
   ]
  },
  {
   "cell_type": "code",
   "execution_count": 25,
   "metadata": {},
   "outputs": [
    {
     "name": "stdout",
     "output_type": "stream",
     "text": [
      "1\n",
      "2\n",
      "3\n",
      "4\n",
      "5\n"
     ]
    }
   ],
   "source": [
    "numbers=[1,2,3,4,5]\n",
    "\n",
    "#for every entry in numbers list, print entry\n",
    "#for(int entry : numbers)\n",
    "#for(auto entry : numbers)\n",
    "\n",
    "for entry in numbers:\n",
    "    print(entry)"
   ]
  },
  {
   "cell_type": "code",
   "execution_count": 24,
   "metadata": {},
   "outputs": [
    {
     "name": "stdout",
     "output_type": "stream",
     "text": [
      "10\t9\t8\t7\t6\t5\t4\t3\t2\t1\t"
     ]
    }
   ],
   "source": [
    "#for (int n1 = 10, n1 > 0, n1 --)\n",
    "for n1 in range(10, 0, -1):\n",
    "    print(n1, end=\"\\t\")"
   ]
  },
  {
   "cell_type": "code",
   "execution_count": 23,
   "metadata": {},
   "outputs": [
    {
     "name": "stdout",
     "output_type": "stream",
     "text": [
      "1\n",
      "2\n",
      "3\n",
      "4\n",
      "5\n",
      "6\n",
      "7\n",
      "8\n",
      "9\n",
      "10\n"
     ]
    }
   ],
   "source": [
    "#### for (int n1 = 1, n1 < 11, n1++)\n",
    "for  n1    in  range(1,11,1): #start, end and step value\n",
    "    print(n1)"
   ]
  },
  {
   "attachments": {},
   "cell_type": "markdown",
   "metadata": {},
   "source": [
    "## while loop"
   ]
  },
  {
   "cell_type": "code",
   "execution_count": 30,
   "metadata": {},
   "outputs": [
    {
     "name": "stdout",
     "output_type": "stream",
     "text": [
      "100\n",
      "200\n",
      "300\n",
      "400\n",
      "done\n"
     ]
    }
   ],
   "source": [
    "### take one input from the user... multiply it by 10 and print output. Repeat till user gives 0 as input\n",
    "number = -1\n",
    "\n",
    "while number != 0:\n",
    "    number =    int(  input(\"Enter a number: \")   )\n",
    "\n",
    "    if number == -1:\n",
    "        break #exit from the nearest loop scope\n",
    "    \n",
    "    print(number * 10)\n",
    "    \n",
    "print(\"done\")"
   ]
  },
  {
   "cell_type": "code",
   "execution_count": 31,
   "metadata": {},
   "outputs": [
    {
     "name": "stdout",
     "output_type": "stream",
     "text": [
      "0\n",
      "2\n",
      "4\n",
      "6\n",
      "8\n"
     ]
    }
   ],
   "source": [
    "n1 = 0\n",
    "\n",
    "while n1 < 10:\n",
    "    print(n1)\n",
    "\n",
    "    n1 += 2 # n1 = n1 + 2\n",
    "    "
   ]
  },
  {
   "cell_type": "code",
   "execution_count": 32,
   "metadata": {},
   "outputs": [
    {
     "name": "stdout",
     "output_type": "stream",
     "text": [
      "Before append :[10, 20, 30, 40]\n",
      "After append: [10, 20, 30, 40, 50]\n"
     ]
    }
   ],
   "source": [
    "numbers = [10,20,30,40]\n",
    "\n",
    "print(f\"Before append :{numbers}\")\n",
    "\n",
    "numbers.append(50)\n",
    "\n",
    "print(f\"After append: {numbers}\")"
   ]
  },
  {
   "cell_type": "code",
   "execution_count": 33,
   "metadata": {},
   "outputs": [
    {
     "name": "stdout",
     "output_type": "stream",
     "text": [
      "Before reverse :[10, 20, 30, 40]\n",
      "After reverse: [40, 30, 20, 10]\n"
     ]
    }
   ],
   "source": [
    "numbers = [10,20,30,40]\n",
    "\n",
    "print(f\"Before reverse :{numbers}\")\n",
    "\n",
    "numbers.reverse() #object dot method\n",
    "\n",
    "print(f\"After reverse: {numbers}\")"
   ]
  },
  {
   "cell_type": "code",
   "execution_count": 35,
   "metadata": {},
   "outputs": [
    {
     "name": "stdout",
     "output_type": "stream",
     "text": [
      "after extend data1: [1, 2, 3, 4, 5, 6, 7, 8] data2: [5, 6, 7, 8]\n"
     ]
    }
   ],
   "source": [
    "data1 = [1,2,3,4]\n",
    "data2 = [5,6,7,8]\n",
    "\n",
    "#expected data1 =[21,2,3,4,5,6,7,8] data2=[5,6,7,8]\n",
    "\n",
    "data1.extend(data2)\n",
    "\n",
    "print(f\"after extend data1: {data1} data2: {data2}\")"
   ]
  },
  {
   "cell_type": "code",
   "execution_count": 38,
   "metadata": {},
   "outputs": [
    {
     "name": "stdout",
     "output_type": "stream",
     "text": [
      "after sort ['ajay', 'harshit', 'raj']\n",
      "after sort descending: ['raj', 'harshit', 'ajay']\n"
     ]
    }
   ],
   "source": [
    "names = [\"harshit\", \"raj\",\"ajay\"]\n",
    "\n",
    "names.sort() #ascending\n",
    "\n",
    "print(f\"after sort {names}\")\n",
    "\n",
    "names.sort(reverse=True)\n",
    "print(f\"after sort descending: {names}\")\n"
   ]
  },
  {
   "cell_type": "code",
   "execution_count": 34,
   "metadata": {},
   "outputs": [
    {
     "name": "stdout",
     "output_type": "stream",
     "text": [
      "<class 'list'>\n"
     ]
    }
   ],
   "source": [
    "print(    type(numbers)  )"
   ]
  },
  {
   "attachments": {},
   "cell_type": "markdown",
   "metadata": {},
   "source": [
    "\n",
    "         0                   1                      2                      3                  4 \n",
    "#        10                  20                     30                     40                 50\n",
    "         -5                 -4                     -3                      -2                   -1"
   ]
  },
  {
   "cell_type": "code",
   "execution_count": 39,
   "metadata": {},
   "outputs": [
    {
     "name": "stdout",
     "output_type": "stream",
     "text": [
      "10 10\n"
     ]
    }
   ],
   "source": [
    "numbers = [10,20,30,40,50]\n",
    "\n",
    "print(numbers[0],     numbers[-5]) #fetching a value from a single given position (indexing)"
   ]
  },
  {
   "cell_type": "code",
   "execution_count": 40,
   "metadata": {},
   "outputs": [
    {
     "name": "stdout",
     "output_type": "stream",
     "text": [
      "[10, 20, 30]\n"
     ]
    }
   ],
   "source": [
    "#start from 0 , end is at 3 , step by 1 0, less than 3, step by 1\n",
    "\n",
    "#read as all positions from 0, less than 3 step by 1\n",
    "print(     numbers[     0 : 3 : 1    ]         ) #slice"
   ]
  },
  {
   "cell_type": "code",
   "execution_count": 41,
   "metadata": {},
   "outputs": [
    {
     "name": "stdout",
     "output_type": "stream",
     "text": [
      "[10, 20, 30, 40, 50]\n"
     ]
    }
   ],
   "source": [
    "#start from 0 and increment by 1\n",
    "print(     numbers[     0 :  : 1    ]         ) #slice"
   ]
  },
  {
   "cell_type": "code",
   "execution_count": 42,
   "metadata": {},
   "outputs": [
    {
     "name": "stdout",
     "output_type": "stream",
     "text": [
      "[50, 40, 30, 20, 10]\n"
     ]
    }
   ],
   "source": [
    "print(     numbers[      :  : -1    ]         ) #slice"
   ]
  },
  {
   "cell_type": "code",
   "execution_count": 43,
   "metadata": {},
   "outputs": [
    {
     "name": "stdout",
     "output_type": "stream",
     "text": [
      "After pop: [10, 20, 40, 50]. Value : 30\n"
     ]
    }
   ],
   "source": [
    "numbers=[10,20,30,40,50]\n",
    "\n",
    "value = numbers.pop(2)\n",
    "\n",
    "print(f\"After pop: {numbers}. Value : {value}\")\n"
   ]
  },
  {
   "attachments": {},
   "cell_type": "markdown",
   "metadata": {},
   "source": [
    "## Dictionary functions\n",
    "\n",
    "Dictionary stores labelled data (key-value) "
   ]
  },
  {
   "cell_type": "code",
   "execution_count": 44,
   "metadata": {},
   "outputs": [],
   "source": [
    "employee={\n",
    "    \"name\" : \"harshit\",\n",
    "    \"age\" : 32,\n",
    "    \"skills\" : [\"coding\",\"ML expert\", \"scripting & automation\"]\n",
    "}"
   ]
  },
  {
   "cell_type": "code",
   "execution_count": 45,
   "metadata": {},
   "outputs": [
    {
     "data": {
      "text/plain": [
       "dict_keys(['name', 'age', 'skills'])"
      ]
     },
     "execution_count": 45,
     "metadata": {},
     "output_type": "execute_result"
    }
   ],
   "source": [
    "employee.keys() #shows all labels in this dictionary"
   ]
  },
  {
   "cell_type": "code",
   "execution_count": 46,
   "metadata": {},
   "outputs": [
    {
     "data": {
      "text/plain": [
       "dict_values(['harshit', 32, ['coding', 'ML expert', 'scripting & automation']])"
      ]
     },
     "execution_count": 46,
     "metadata": {},
     "output_type": "execute_result"
    }
   ],
   "source": [
    "employee.values() #shows all data values in this dictionary"
   ]
  },
  {
   "cell_type": "code",
   "execution_count": 48,
   "metadata": {},
   "outputs": [
    {
     "data": {
      "text/plain": [
       "dict_items([('name', 'harshit'), ('age', 32), ('skills', ['coding', 'ML expert', 'scripting & automation'])])"
      ]
     },
     "execution_count": 48,
     "metadata": {},
     "output_type": "execute_result"
    }
   ],
   "source": [
    "employee.items()"
   ]
  },
  {
   "cell_type": "code",
   "execution_count": 49,
   "metadata": {},
   "outputs": [
    {
     "name": "stdout",
     "output_type": "stream",
     "text": [
      "Key is: name. Value is harshit\n",
      "Key is: age. Value is 32\n",
      "Key is: skills. Value is ['coding', 'ML expert', 'scripting & automation']\n"
     ]
    }
   ],
   "source": [
    "for k,v  in employee.items():\n",
    "    print(f\"Key is: {k}. Value is {v}\")"
   ]
  },
  {
   "cell_type": "code",
   "execution_count": 52,
   "metadata": {},
   "outputs": [
    {
     "name": "stdout",
     "output_type": "stream",
     "text": [
      "{'name': 'harshit', 'age': 32, 'skills': ['coding', 'ML expert', 'scripting & automation']}\n",
      "{101: {'name': 'harshit', 'age': 32}, 102: {'name': 'rohan', 'age': 31}}\n"
     ]
    }
   ],
   "source": [
    "print(employee)\n",
    "print(employees)"
   ]
  },
  {
   "attachments": {},
   "cell_type": "markdown",
   "metadata": {},
   "source": [
    "VS CODE\n",
    "Pycharm\n",
    "Sublime Text\n",
    "Atom Editor\n",
    "Jetbrains Fleet"
   ]
  },
  {
   "cell_type": "code",
   "execution_count": 54,
   "metadata": {},
   "outputs": [
    {
     "name": "stdout",
     "output_type": "stream",
     "text": [
      "Dictioanry with label : 101 : value {'name': 'harshit', 'age': 32}\n",
      "Dictioanry with label : 102 : value {'name': 'rohan', 'age': 31}\n"
     ]
    }
   ],
   "source": [
    "#items from employees dictionary: separate k1 for key and v1 for value\n",
    "for k1, v1  in employees.items():\n",
    "    print(f\"Dictioanry with label : {k1} : value {v1}\")\n",
    "\n",
    "    # now v1 is also a dictionary. so we can separate its labels as k and values as v..loop again\n",
    "    for k,v in v1.items():\n",
    "\n",
    "        print(f\"Key is {k}, value is {v}\")"
   ]
  },
  {
   "attachments": {},
   "cell_type": "markdown",
   "metadata": {},
   "source": [
    "#### update : add a new item to the dictionary (key-value pair)\n",
    "#### update : change value associated with an existing label\n",
    "\n",
    "###Note: In a dictionary, duplicate labels are not possible"
   ]
  },
  {
   "cell_type": "code",
   "execution_count": 56,
   "metadata": {},
   "outputs": [
    {
     "name": "stdout",
     "output_type": "stream",
     "text": [
      "{101: {'name': 'harshit', 'age': 32}, 102: {'name': 'rohan', 'age': 31}}\n"
     ]
    }
   ],
   "source": [
    "print(employees)"
   ]
  },
  {
   "cell_type": "code",
   "execution_count": 57,
   "metadata": {},
   "outputs": [
    {
     "name": "stdout",
     "output_type": "stream",
     "text": [
      "{'age': 30, 'gender': 'Male', 'location': 'Delhi', 'name': 'harshit'}\n"
     ]
    }
   ],
   "source": [
    "data = {\n",
    "    \"age\" : 30,\n",
    "    \"gender\" : \"Male\",\n",
    "    \"location\" : \"Mumbai\"\n",
    "}\n",
    "\n",
    "\n",
    "data.update(     {\"name\" : \"harshit\"}     ) #updating data by making a new entry (since name label is not present)\n",
    "\n",
    "data.update(       {\"location\" : \"Delhi\"}      ) #location label is present. no new entry. updates existing location\n",
    "\n",
    "print(data)"
   ]
  },
  {
   "cell_type": "code",
   "execution_count": null,
   "metadata": {},
   "outputs": [],
   "source": [
    "data={\n",
    "    \"name\" : \"harshit\",\n",
    "    \"age\" : 32,\n",
    "    \"location\" : \"Mumbai\"\n",
    "}\n",
    "\n",
    "key = input(\"Enter a key to be added: \")\n",
    "value = input(\"Enter a value to be added: \")\n",
    "\n",
    "#if key provided by user is already \"present in\" list of keys for data\n",
    "if key in data.keys():\n",
    "    choice=input(\"This key already exists. Do you want to overwrite: y for yes, n for no: \")\n",
    "    if choice == \"y\":\n",
    "        data.update(  {key : value}  )\n",
    "        \n",
    "#else : key is not present...no further thinking required. update directly\n",
    "else:\n",
    "    data.update(  {key : value}  )\n"
   ]
  },
  {
   "cell_type": "code",
   "execution_count": 58,
   "metadata": {},
   "outputs": [
    {
     "name": "stdout",
     "output_type": "stream",
     "text": [
      "harshit\n"
     ]
    }
   ],
   "source": [
    "print(data[\"name\"])"
   ]
  },
  {
   "cell_type": "code",
   "execution_count": 59,
   "metadata": {},
   "outputs": [
    {
     "ename": "KeyError",
     "evalue": "'xyz'",
     "output_type": "error",
     "traceback": [
      "\u001b[1;31m---------------------------------------------------------------------------\u001b[0m",
      "\u001b[1;31mKeyError\u001b[0m                                  Traceback (most recent call last)",
      "Cell \u001b[1;32mIn[59], line 1\u001b[0m\n\u001b[1;32m----> 1\u001b[0m \u001b[39mprint\u001b[39m(data[\u001b[39m\"\u001b[39;49m\u001b[39mxyz\u001b[39;49m\u001b[39m\"\u001b[39;49m])\n",
      "\u001b[1;31mKeyError\u001b[0m: 'xyz'"
     ]
    }
   ],
   "source": [
    "print(data[\"xyz\"])"
   ]
  },
  {
   "cell_type": "code",
   "execution_count": 60,
   "metadata": {},
   "outputs": [
    {
     "name": "stdout",
     "output_type": "stream",
     "text": [
      "harshit\n"
     ]
    }
   ],
   "source": [
    "print(data.get(\"name\", \"NO DATA\"))"
   ]
  },
  {
   "cell_type": "code",
   "execution_count": 61,
   "metadata": {},
   "outputs": [
    {
     "name": "stdout",
     "output_type": "stream",
     "text": [
      "NO DATA\n"
     ]
    }
   ],
   "source": [
    "print(data.get(\"xyz\", \"NO DATA\"))"
   ]
  },
  {
   "attachments": {},
   "cell_type": "markdown",
   "metadata": {},
   "source": [
    "#### string class methods\n",
    "\n"
   ]
  },
  {
   "cell_type": "code",
   "execution_count": 62,
   "metadata": {},
   "outputs": [
    {
     "name": "stdout",
     "output_type": "stream",
     "text": [
      "PYTHON IS A VERY GOOD LANGUAGE. PYTHON IS EASY\n"
     ]
    }
   ],
   "source": [
    "msg = \"Python is a very good language. Python is easy\" #string are immutable\n",
    "\n",
    "print(     msg.upper()   ) #this creates a new string in memory"
   ]
  },
  {
   "cell_type": "code",
   "execution_count": 63,
   "metadata": {},
   "outputs": [
    {
     "name": "stdout",
     "output_type": "stream",
     "text": [
      "python is a very good language. python is easy\n"
     ]
    }
   ],
   "source": [
    "print(     msg.lower()   ) #this creates a new string in memory"
   ]
  },
  {
   "cell_type": "code",
   "execution_count": 64,
   "metadata": {},
   "outputs": [
    {
     "name": "stdout",
     "output_type": "stream",
     "text": [
      "Python Is A Very Good Language. Python Is Easy\n"
     ]
    }
   ],
   "source": [
    "print(     msg.title()   ) #this creates a new string in memory"
   ]
  },
  {
   "cell_type": "code",
   "execution_count": 65,
   "metadata": {},
   "outputs": [
    {
     "name": "stdout",
     "output_type": "stream",
     "text": [
      "Original msg Python is a very good language. Python is easy. New msg : Java is a very good language. Java is easy\n"
     ]
    }
   ],
   "source": [
    "\n",
    "new_msg = msg.replace(\"Python\", \"Java\")\n",
    "\n",
    "print(f\"Original msg {msg}. New msg : {new_msg}\")"
   ]
  },
  {
   "cell_type": "code",
   "execution_count": 69,
   "metadata": {},
   "outputs": [
    {
     "name": "stdout",
     "output_type": "stream",
     "text": [
      "Original msg Python is a very good language. Python is easy.\n",
      "New msg : Java is a very good language. Python is easy\n"
     ]
    }
   ],
   "source": [
    "\n",
    "new_msg = msg.replace(\"Python\", \"Java\", 1)\n",
    "\n",
    "print(f\"Original msg {msg}.\\nNew msg : {new_msg}\")"
   ]
  },
  {
   "attachments": {},
   "cell_type": "markdown",
   "metadata": {},
   "source": [
    "SQL TABLE <----------> SQL QUERIES\n",
    "\n",
    "\n",
    "SQL TABLE<----------> REST APIs<---------------> Users\n",
    "\n",
    "read_table() : select * from table-name"
   ]
  },
  {
   "attachments": {},
   "cell_type": "markdown",
   "metadata": {},
   "source": [
    "API : Application Programming Interface? [WEB API]\n",
    "\n",
    "\n",
    "API is a way to access functionalities of SOMETHING!\n",
    "\n",
    "msg.upper() ----> accessing uppercase conversion functionalities of STRING CLASS?\n",
    "\n",
    "STRING APIs in python\n",
    "\n",
    "\n",
    "WEB APISs \n",
    "        -REST API\n",
    "        -SOAP API\n",
    "        -RPC \n",
    "\n",
    "        -GRAPHQL"
   ]
  },
  {
   "attachments": {},
   "cell_type": "markdown",
   "metadata": {},
   "source": [
    "### FUNCTIONS IN PYTHON!"
   ]
  },
  {
   "cell_type": "code",
   "execution_count": 71,
   "metadata": {},
   "outputs": [],
   "source": [
    "# take a number from the user. Print its square\n",
    "def square():\n",
    "    number = float(     input(\"Enter a number: \")      )\n",
    "    print(number ** 2)"
   ]
  },
  {
   "cell_type": "code",
   "execution_count": 72,
   "metadata": {},
   "outputs": [
    {
     "name": "stdout",
     "output_type": "stream",
     "text": [
      "10000.0\n"
     ]
    }
   ],
   "source": [
    "square()"
   ]
  },
  {
   "cell_type": "code",
   "execution_count": 73,
   "metadata": {},
   "outputs": [],
   "source": [
    "# N! = N * N-1 * N-2....1\n",
    "\n",
    "#hint to the user : provide integer\n",
    "def factorial(number : int) -> int:\n",
    "    if number < 0:\n",
    "        return -1 #indicates invalid answer\n",
    "    elif number == 0 or number == 1:\n",
    "        return 1\n",
    "    else:\n",
    "        ans = 1\n",
    "        #for all numbers starting from 2, all numbers less than number + 1 (upto number)\n",
    "        for count in range(2,number + 1, 1):\n",
    "            ans = ans * count\n",
    "        return ans"
   ]
  },
  {
   "cell_type": "code",
   "execution_count": 74,
   "metadata": {},
   "outputs": [
    {
     "name": "stdout",
     "output_type": "stream",
     "text": [
      "120\n"
     ]
    }
   ],
   "source": [
    "ans = factorial(5)\n",
    "print(ans)"
   ]
  },
  {
   "cell_type": "code",
   "execution_count": null,
   "metadata": {},
   "outputs": [],
   "source": [
    "def factorial_recurssive(number : int) -> int:\n",
    "    if number < 0:\n",
    "        return -1\n",
    "    elif number == 0 or number ==1:\n",
    "        return 1\n",
    "    else:\n",
    "        return number * factorial_recurssive(number -1)"
   ]
  },
  {
   "cell_type": "code",
   "execution_count": 75,
   "metadata": {},
   "outputs": [
    {
     "name": "stdout",
     "output_type": "stream",
     "text": [
      "120\n"
     ]
    }
   ],
   "source": [
    "ans = factorial(5)\n",
    "print(ans)"
   ]
  },
  {
   "attachments": {},
   "cell_type": "markdown",
   "metadata": {},
   "source": [
    "### functions may take 0 or more arguments/parameters\n",
    "### functions may or may not return a value"
   ]
  },
  {
   "cell_type": "code",
   "execution_count": 76,
   "metadata": {},
   "outputs": [],
   "source": [
    "def addition_return(n1 : int, n2 : int) -> int:\n",
    "    return n1 + n2"
   ]
  },
  {
   "cell_type": "code",
   "execution_count": 77,
   "metadata": {},
   "outputs": [
    {
     "name": "stdout",
     "output_type": "stream",
     "text": [
      "30\n"
     ]
    }
   ],
   "source": [
    "answer = addition_return(10, 20)\n",
    "print(answer)"
   ]
  },
  {
   "cell_type": "code",
   "execution_count": 82,
   "metadata": {},
   "outputs": [],
   "source": [
    "def addition_no_return(n1 : int, n2 : int) ->None:\n",
    "    print( n1 + n2 )"
   ]
  },
  {
   "cell_type": "code",
   "execution_count": 85,
   "metadata": {},
   "outputs": [
    {
     "name": "stdout",
     "output_type": "stream",
     "text": [
      "30\n"
     ]
    }
   ],
   "source": [
    "addition_no_return(10,20)"
   ]
  },
  {
   "cell_type": "code",
   "execution_count": 83,
   "metadata": {},
   "outputs": [
    {
     "name": "stdout",
     "output_type": "stream",
     "text": [
      "30\n",
      "None\n"
     ]
    }
   ],
   "source": [
    "ans = addition_no_return(10, 20)\n",
    "print(ans) #error!![None]"
   ]
  },
  {
   "attachments": {},
   "cell_type": "markdown",
   "metadata": {},
   "source": [
    "\n",
    "\n",
    "function\n",
    "addition_no_return <------------------------------   addition_no_return(10,20)\n",
    "\n",
    "print(30)\n",
    "\n",
    "None------------------------------------------------> ans = addition_no_return()\n",
    "\n",
    "print(ans) # None"
   ]
  },
  {
   "cell_type": "code",
   "execution_count": 89,
   "metadata": {},
   "outputs": [
    {
     "name": "stdout",
     "output_type": "stream",
     "text": [
      "30\n",
      "Did not get a return value. so cannot do square\n"
     ]
    }
   ],
   "source": [
    "def addition_no_return(n1, n2 ):\n",
    "    print( n1 + n2 ) #shows output 30\n",
    "\n",
    "\n",
    "ans = addition_no_return(10,20)\n",
    "\n",
    "if ans is not None:\n",
    "    print(f\"square of ans is: {ans * ans}\")\n",
    "else:\n",
    "    print(\"Did not get a return value. so cannot do square\")"
   ]
  },
  {
   "cell_type": "code",
   "execution_count": 93,
   "metadata": {},
   "outputs": [],
   "source": [
    "def sum(n1 : int , n2 :int) -> None:\n",
    "    #if n1 is an instance of integer and n2 is an instance of integer\n",
    "    if  isinstance(n1, int) and  isinstance(n2, int):\n",
    "        print(n1 + n2)\n",
    "    else:\n",
    "        print(\"Please provide 2 integers only\")\n"
   ]
  },
  {
   "cell_type": "code",
   "execution_count": 94,
   "metadata": {},
   "outputs": [
    {
     "name": "stdout",
     "output_type": "stream",
     "text": [
      "30\n",
      "-30\n",
      "0\n",
      "Please provide 2 integers only\n",
      "Please provide 2 integers only\n"
     ]
    }
   ],
   "source": [
    "sum(10, 20)\n",
    "\n",
    "sum(-10, -20)\n",
    "\n",
    "sum(0, 0)\n",
    "\n",
    "sum(\"harshit\", \"shukla\") #concatenated!\n",
    "\n",
    "sum([1,2,3], [4,5,6])"
   ]
  },
  {
   "cell_type": "code",
   "execution_count": null,
   "metadata": {},
   "outputs": [],
   "source": []
  },
  {
   "cell_type": "code",
   "execution_count": 98,
   "metadata": {},
   "outputs": [],
   "source": [
    "\n",
    "#n1 is expected to be an integer and has a default value of 0\n",
    "#n2 is expected to be an integer and has a default value of 0\n",
    "\n",
    "def sum(n1 : int = 0, n2 : int = 0) -> None:\n",
    "    print(n1 + n2)"
   ]
  },
  {
   "cell_type": "code",
   "execution_count": 101,
   "metadata": {},
   "outputs": [
    {
     "name": "stdout",
     "output_type": "stream",
     "text": [
      "100\n"
     ]
    }
   ],
   "source": [
    "number = 100\n",
    "\n",
    "sum(n2 = number) #for sum function, value of n2 argument is whatever is stored in number"
   ]
  },
  {
   "attachments": {},
   "cell_type": "markdown",
   "metadata": {},
   "source": [
    "You can call function by passing arguments in 2 ways\n",
    "\n",
    "def addition(n1 , n2)\n",
    "    ....\n",
    "\n",
    "a) Positional style : addition(10,20) #10 goes to position 1 i.e n1 argument and 20 goes to position 2 i.e n2\n",
    "b) keyword-style : addition(   n2=10, n1=20   ) #20 goes to n1 and 10 goes to n2\n",
    "\n",
    "\n",
    "functions may also have default values\n",
    "\n",
    "def addition (n1 = 0, n2 = 0)\n",
    "\n",
    "-addition() #n1 0 n2 0\n",
    "addition(10) #n1 becomes 10, n2 0\n",
    "addition(n2=100) #n1 remains 0 n2 becomes = 100\n",
    "addition(10, 20, 30) #error!"
   ]
  },
  {
   "cell_type": "code",
   "execution_count": 102,
   "metadata": {},
   "outputs": [
    {
     "name": "stdout",
     "output_type": "stream",
     "text": [
      "10\n",
      "10\n",
      "10\n",
      "0\n",
      "-30\n"
     ]
    }
   ],
   "source": [
    "sum(10) # n1 here is 10, n2 is defaulted to 0\n",
    "\n",
    "sum(n2=10) #n1 is defaulted to 0, n2 is 10\n",
    "\n",
    "sum(10,0) # n1 is 10. n2 is 0 (provided by the 0)\n",
    "\n",
    "sum() #n1 is defaulted to 0, n2 is defaulted to 0\n",
    "\n",
    "sum(-10, -20) #n1 is -10 and n2 is -20"
   ]
  },
  {
   "cell_type": "code",
   "execution_count": 103,
   "metadata": {},
   "outputs": [
    {
     "name": "stdout",
     "output_type": "stream",
     "text": [
      "The Zen of Python, by Tim Peters\n",
      "\n",
      "Beautiful is better than ugly.\n",
      "Explicit is better than implicit.\n",
      "Simple is better than complex.\n",
      "Complex is better than complicated.\n",
      "Flat is better than nested.\n",
      "Sparse is better than dense.\n",
      "Readability counts.\n",
      "Special cases aren't special enough to break the rules.\n",
      "Although practicality beats purity.\n",
      "Errors should never pass silently.\n",
      "Unless explicitly silenced.\n",
      "In the face of ambiguity, refuse the temptation to guess.\n",
      "There should be one-- and preferably only one --obvious way to do it.\n",
      "Although that way may not be obvious at first unless you're Dutch.\n",
      "Now is better than never.\n",
      "Although never is often better than *right* now.\n",
      "If the implementation is hard to explain, it's a bad idea.\n",
      "If the implementation is easy to explain, it may be a good idea.\n",
      "Namespaces are one honking great idea -- let's do more of those!\n"
     ]
    }
   ],
   "source": [
    "import this"
   ]
  },
  {
   "attachments": {},
   "cell_type": "markdown",
   "metadata": {},
   "source": [
    "### if you are calling a function designed by someone else\n",
    "        ----> read documentation and pop-up\n",
    "        ----> if possible, use keyword style of argument passing\n",
    "### if you make a function,\n",
    "        -----> ALWAYS provide hints!\n",
    "        -----> try to use default values wherever possible"
   ]
  },
  {
   "attachments": {},
   "cell_type": "markdown",
   "metadata": {},
   "source": [
    "#### write a program that accepts 2 values(numeric) from the user AND RETURNS the larger value. If both are equal, return any of them"
   ]
  },
  {
   "cell_type": "code",
   "execution_count": 106,
   "metadata": {},
   "outputs": [
    {
     "name": "stdout",
     "output_type": "stream",
     "text": [
      "30\n"
     ]
    }
   ],
   "source": [
    "n1 = int(input(\"Enter a number: \"))\n",
    "n2 = int(input(\"Enter another number: \"))\n",
    "\n",
    "#print n1 if n1 is greater than n2...for all other scenarios print n2\n",
    "\n",
    "# expression if-condition else: expression\n",
    "\n",
    "print(    n1 if n1 > n2 else n2       ) #if-else expression"
   ]
  },
  {
   "cell_type": "code",
   "execution_count": null,
   "metadata": {},
   "outputs": [],
   "source": [
    "# numbers=[1,2,3,4,5]\n",
    "\n",
    "# #built-in method of list class\n",
    "\n",
    "# numbers.append(6)\n",
    "\n",
    "# #a function that is built-in BUT NOT SPECIFICALLY for a list\n",
    "# # \n",
    "# print(numbers)\n",
    "\n",
    "# #a function created by you\n",
    "#     square(numbers)"
   ]
  },
  {
   "attachments": {},
   "cell_type": "markdown",
   "metadata": {},
   "source": [
    "#### write a function that can \n",
    "        -> perform sort if the argument is a list\n",
    "        -> print keys if the argument is a dictionary\n",
    "        -> print square if the argument is int or float\n",
    "        -> print argument in upper case if input a string"
   ]
  },
  {
   "cell_type": "code",
   "execution_count": 107,
   "metadata": {},
   "outputs": [
    {
     "name": "stdout",
     "output_type": "stream",
     "text": [
      "100\n"
     ]
    }
   ],
   "source": [
    "def operation(   argument : int | float | dict | list | str   ) -> None:\n",
    "    if isinstance(argument, list):\n",
    "        argument.sort()\n",
    "        print(f\"After sorting list: {argument}\")\n",
    "\n",
    "    elif isinstance(argument, dict):\n",
    "        print(argument.keys())\n",
    "\n",
    "    elif isinstance(argument, str):\n",
    "        print(argument.upper())    \n",
    "\n",
    "    elif isinstance(argument, (int,float)  ):\n",
    "        print(argument ** 2)\n",
    "\n",
    "    else:\n",
    "        print(\"please provide one of the 5 hinted arguments\")\n",
    "\n",
    "\n",
    "operation(10)"
   ]
  },
  {
   "cell_type": "code",
   "execution_count": 114,
   "metadata": {},
   "outputs": [],
   "source": [
    "#by using a * next to a variable, we ask python to pack all received inputs\n",
    "#into a tuple\n",
    "\n",
    "#variable argument function\n",
    "def operation(   *argument : tuple   ) -> None:\n",
    "\n",
    "    #for each value in the tuple, perform the operation based on if-else \n",
    "    for value in argument:\n",
    "\n",
    "        print(type(value)) #type is for printing data type\n",
    "        if isinstance(value, list): #isinstance is used to apply condition based on types\n",
    "            value.sort()\n",
    "            print(f\"After sorting list: {value}\")\n",
    "\n",
    "        elif isinstance(value, dict):\n",
    "            print(value.keys())\n",
    "\n",
    "        elif isinstance(value, str):\n",
    "            print(value.upper())    \n",
    "\n",
    "        elif isinstance(value, (int,float)  ):\n",
    "            print(value ** 2)\n",
    "\n",
    "        else:\n",
    "            print(\"please provide one of the 5 hinted arguments\")\n"
   ]
  },
  {
   "cell_type": "code",
   "execution_count": 115,
   "metadata": {},
   "outputs": [
    {
     "name": "stdout",
     "output_type": "stream",
     "text": [
      "<class 'int'>\n",
      "1\n",
      "<class 'str'>\n",
      "HARSHIT\n",
      "<class 'int'>\n",
      "1\n",
      "<class 'float'>\n",
      "121.0\n",
      "<class 'str'>\n",
      "HARSHIT\n",
      "<class 'list'>\n",
      "After sorting list: [1, 2, 2, 11, 54]\n"
     ]
    }
   ],
   "source": [
    "operation(1,\"harshit\") #arguments : (1, Harshit)\n",
    "\n",
    "operation(1, 11.0, \"harshit\", [1,2,54,11,2] )\n",
    "#argument : (1,11.0, \"harshit\", [1,2,54,11,2])"
   ]
  },
  {
   "cell_type": "code",
   "execution_count": null,
   "metadata": {},
   "outputs": [],
   "source": []
  }
 ],
 "metadata": {
  "kernelspec": {
   "display_name": "Python 3",
   "language": "python",
   "name": "python3"
  },
  "language_info": {
   "codemirror_mode": {
    "name": "ipython",
    "version": 3
   },
   "file_extension": ".py",
   "mimetype": "text/x-python",
   "name": "python",
   "nbconvert_exporter": "python",
   "pygments_lexer": "ipython3",
   "version": "3.11.0"
  },
  "orig_nbformat": 4
 },
 "nbformat": 4,
 "nbformat_minor": 2
}
